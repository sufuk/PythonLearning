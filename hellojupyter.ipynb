{
 "cells": [
  {
   "cell_type": "markdown",
   "metadata": {},
   "source": [
    "# WAY OF THE PYTHON"
   ]
  },
  {
   "cell_type": "markdown",
   "metadata": {},
   "source": [
    "_Welcom to My first Jupyter Notebook!!\n",
    "I will use this notebook as a learnig area so if you see\n",
    "any crappy code you shitweasels can teach me or just learn \n",
    "to deal with it:)_\n",
    "This notebook is written according to \"w3schools python 3\""
   ]
  },
  {
   "cell_type": "markdown",
   "metadata": {},
   "source": [
    "## Chapter 1: Getting Started"
   ]
  },
  {
   "cell_type": "markdown",
   "metadata": {},
   "source": [
    "`print()` _prints the object in the standard output device_"
   ]
  },
  {
   "cell_type": "code",
   "execution_count": 1,
   "metadata": {},
   "outputs": [
    {
     "name": "stdout",
     "output_type": "stream",
     "text": [
      "Hello World\n"
     ]
    }
   ],
   "source": [
    "print(\"Hello World\")"
   ]
  },
  {
   "cell_type": "markdown",
   "metadata": {},
   "source": [
    "##### IMPORTANCE OF INDENTATION!!!"
   ]
  },
  {
   "cell_type": "code",
   "execution_count": 2,
   "metadata": {},
   "outputs": [
    {
     "name": "stdout",
     "output_type": "stream",
     "text": [
      "correct\n"
     ]
    }
   ],
   "source": [
    "if 3 > 1:\n",
    "    print(\"correct\")"
   ]
  },
  {
   "cell_type": "code",
   "execution_count": 7,
   "metadata": {},
   "outputs": [
    {
     "ename": "IndentationError",
     "evalue": "expected an indented block (<ipython-input-7-ecf1df837c45>, line 2)",
     "output_type": "error",
     "traceback": [
      "\u001b[1;36m  File \u001b[1;32m\"<ipython-input-7-ecf1df837c45>\"\u001b[1;36m, line \u001b[1;32m2\u001b[0m\n\u001b[1;33m    print(\"correct\")\u001b[0m\n\u001b[1;37m        ^\u001b[0m\n\u001b[1;31mIndentationError\u001b[0m\u001b[1;31m:\u001b[0m expected an indented block\n"
     ]
    }
   ],
   "source": [
    "if 3 > 1:\n",
    "print(\"correct\")"
   ]
  },
  {
   "cell_type": "markdown",
   "metadata": {},
   "source": [
    "_As you can see above indentation is very important in python.._"
   ]
  },
  {
   "cell_type": "code",
   "execution_count": 2,
   "metadata": {
    "scrolled": true
   },
   "outputs": [
    {
     "ename": "IndentationError",
     "evalue": "unexpected indent (<ipython-input-2-a527e833ce29>, line 3)",
     "output_type": "error",
     "traceback": [
      "\u001b[1;36m  File \u001b[1;32m\"<ipython-input-2-a527e833ce29>\"\u001b[1;36m, line \u001b[1;32m3\u001b[0m\n\u001b[1;33m    print(\"vex\")\u001b[0m\n\u001b[1;37m    ^\u001b[0m\n\u001b[1;31mIndentationError\u001b[0m\u001b[1;31m:\u001b[0m unexpected indent\n"
     ]
    }
   ],
   "source": [
    "if 3 > 1:\n",
    "    print(\"astrid\")\n",
    "        print(\"vex\")"
   ]
  },
  {
   "cell_type": "markdown",
   "metadata": {},
   "source": [
    "**You must use at least one space !!\n",
    "All arguments must have same number of spaces at one code block**"
   ]
  },
  {
   "cell_type": "markdown",
   "metadata": {},
   "source": [
    "##### COMMENTS"
   ]
  },
  {
   "cell_type": "markdown",
   "metadata": {},
   "source": [
    "_You can use # and \"\"\" operators for commenting.\n",
    "Comments is the important part of programming do \n",
    "not hesitate add comments to your code ı am not gonna use\n",
    "so much in this notebook beacuse it is a  notebook\n",
    "not a project._"
   ]
  },
  {
   "cell_type": "code",
   "execution_count": 6,
   "metadata": {
    "scrolled": true
   },
   "outputs": [
    {
     "name": "stdout",
     "output_type": "stream",
     "text": [
      "Sufuk is the best\n"
     ]
    }
   ],
   "source": [
    "\"\"\"\n",
    "This is a comment\n",
    "\"\"\"\n",
    "#This is a comment to \n",
    "print(\"Sufuk is the best\")"
   ]
  },
  {
   "cell_type": "markdown",
   "metadata": {},
   "source": [
    "_As you can see comments do not effect the program._"
   ]
  },
  {
   "cell_type": "markdown",
   "metadata": {},
   "source": [
    "### Python Variables"
   ]
  },
  {
   "cell_type": "markdown",
   "metadata": {},
   "source": [
    "In python variables created when you assign a value to it:"
   ]
  },
  {
   "cell_type": "code",
   "execution_count": 12,
   "metadata": {},
   "outputs": [
    {
     "name": "stdout",
     "output_type": "stream",
     "text": [
      "22\n",
      "Sufuk\n"
     ]
    }
   ],
   "source": [
    "x = 22\n",
    "y = \"Sufuk\"\n",
    "print(x)\n",
    "print(y)"
   ]
  },
  {
   "cell_type": "markdown",
   "metadata": {},
   "source": [
    "Python has no command for declaring a variable."
   ]
  },
  {
   "cell_type": "markdown",
   "metadata": {},
   "source": [
    "Also you can change the variable type by reassigging it:"
   ]
  },
  {
   "cell_type": "code",
   "execution_count": 14,
   "metadata": {},
   "outputs": [
    {
     "name": "stdout",
     "output_type": "stream",
     "text": [
      "32\n",
      "izmit\n"
     ]
    }
   ],
   "source": [
    "x = 32\n",
    "print(x)\n",
    "x = 'izmit'\n",
    "print(x)"
   ]
  },
  {
   "cell_type": "markdown",
   "metadata": {},
   "source": [
    "_Note_"
   ]
  },
  {
   "cell_type": "markdown",
   "metadata": {},
   "source": [
    "A variable name cannot start with number"
   ]
  },
  {
   "cell_type": "markdown",
   "metadata": {},
   "source": [
    "**Examples of Variables**"
   ]
  },
  {
   "cell_type": "code",
   "execution_count": 16,
   "metadata": {},
   "outputs": [
    {
     "name": "stdout",
     "output_type": "stream",
     "text": [
      "ali\n",
      "catch\n",
      "the\n",
      "ball\n"
     ]
    }
   ],
   "source": [
    "x, y, z, t = \"ali\", \"catch\", \"the\", \"ball\" \n",
    "print(x)\n",
    "print(y)\n",
    "print(z)\n",
    "print(t)"
   ]
  },
  {
   "cell_type": "markdown",
   "metadata": {},
   "source": [
    "**Output Variables**"
   ]
  },
  {
   "cell_type": "markdown",
   "metadata": {},
   "source": [
    "To combine a variable, Python uses the + character:"
   ]
  },
  {
   "cell_type": "code",
   "execution_count": 18,
   "metadata": {},
   "outputs": [
    {
     "name": "stdout",
     "output_type": "stream",
     "text": [
      "Forgive me My Love\n"
     ]
    }
   ],
   "source": [
    "x = 'My Love'\n",
    "print(\"Forgive me \" + x)"
   ]
  },
  {
   "cell_type": "code",
   "execution_count": 22,
   "metadata": {},
   "outputs": [
    {
     "name": "stdout",
     "output_type": "stream",
     "text": [
      "Pythonrules\n",
      "25\n"
     ]
    }
   ],
   "source": [
    "x = \"Python\" \n",
    "y = \"rules\"\n",
    "z = x + y \n",
    "print(z)\n",
    "a = 10\n",
    "b = 15\n",
    "c = a + b\n",
    "print(c)"
   ]
  },
  {
   "cell_type": "markdown",
   "metadata": {},
   "source": [
    "**Global Variables**"
   ]
  },
  {
   "cell_type": "markdown",
   "metadata": {},
   "source": [
    "If you create a function and create a variable inside that function that variable is called local variable.\n",
    "And cannot be used outside of that function\n",
    "But if you created a variable in main code that called global variable and canb e used in everywhere."
   ]
  },
  {
   "cell_type": "code",
   "execution_count": 24,
   "metadata": {},
   "outputs": [
    {
     "name": "stdout",
     "output_type": "stream",
     "text": [
      "Sufuk is the best \n"
     ]
    }
   ],
   "source": [
    "x = \" is the best \"\n",
    "\n",
    "def my_func():\n",
    "    print(\"Sufuk\" + x)\n",
    "    \n",
    "my_func()"
   ]
  },
  {
   "cell_type": "code",
   "execution_count": 27,
   "metadata": {},
   "outputs": [
    {
     "name": "stdout",
     "output_type": "stream",
     "text": [
      "Sufuk is the worst\n",
      " is the best \n"
     ]
    }
   ],
   "source": [
    "x = \" is the best \"\n",
    "\n",
    "def my_func():\n",
    "    x = \" is the worst\" \n",
    "    print(\"Sufuk\" + x)\n",
    "    \n",
    "my_func()\n",
    "print(x)"
   ]
  },
  {
   "cell_type": "markdown",
   "metadata": {},
   "source": [
    "But if you use global keyword before assiging a variable it is always global: "
   ]
  },
  {
   "cell_type": "code",
   "execution_count": 28,
   "metadata": {},
   "outputs": [
    {
     "name": "stdout",
     "output_type": "stream",
     "text": [
      "Sufuk is the worst\n",
      " is the worst\n"
     ]
    }
   ],
   "source": [
    "x = \" is the best \"\n",
    "\n",
    "def my_func():\n",
    "    global x\n",
    "    x = \" is the worst\" \n",
    "    print(\"Sufuk\" + x)\n",
    "    \n",
    "my_func()\n",
    "print(x)"
   ]
  },
  {
   "cell_type": "markdown",
   "metadata": {},
   "source": [
    "## Python Data Types"
   ]
  },
  {
   "cell_type": "markdown",
   "metadata": {},
   "source": [
    "Text Type:\tstr\n",
    "\n",
    "Numeric Types:\tint, float, complex\n",
    "\n",
    "Sequence Types:\tlist, tuple, range\n",
    "\n",
    "Mapping Type:\tdict\n",
    "\n",
    "Set Types:\tset, frozenset\n",
    "\n",
    "Boolean Type:\tbool\n",
    "\n",
    "Binary Types:\tbytes, bytearray, memoryview"
   ]
  },
  {
   "cell_type": "markdown",
   "metadata": {},
   "source": [
    "You can use the type() function to learn type of data."
   ]
  },
  {
   "cell_type": "code",
   "execution_count": 29,
   "metadata": {},
   "outputs": [
    {
     "name": "stdout",
     "output_type": "stream",
     "text": [
      "<class 'int'>\n",
      "<class 'str'>\n"
     ]
    }
   ],
   "source": [
    "x = 10\n",
    "print(type(x))\n",
    "y = \"Sufuk\"\n",
    "print(type(y))"
   ]
  },
  {
   "cell_type": "markdown",
   "metadata": {},
   "source": [
    "If you really want to specify to data Types you use following constructor functions.\n",
    "\n",
    "x = str(\"Hello World\")\tstr\t\n",
    "x = int(20)\tint\t\n",
    "x = float(20.5)\tfloat\t\n",
    "x = complex(1j)\tcomplex\t\n",
    "x = list((\"apple\", \"banana\", \"cherry\"))\tlist\t\n",
    "x = tuple((\"apple\", \"banana\", \"cherry\"))\ttuple\t\n",
    "x = range(6)\trange\t\n",
    "x = dict(name=\"John\", age=36)\tdict\t\n",
    "x = set((\"apple\", \"banana\", \"cherry\"))\tset\t\n",
    "x = frozenset((\"apple\", \"banana\", \"cherry\"))\tfrozenset\t\n",
    "x = bool(5)\tbool\t\n",
    "x = bytes(5)\tbytes\t\n",
    "x = bytearray(5)\tbytearray\t\n",
    "x = memoryview(bytes(5))\tmemoryview"
   ]
  },
  {
   "cell_type": "markdown",
   "metadata": {},
   "source": [
    "### Python Numbers"
   ]
  },
  {
   "cell_type": "markdown",
   "metadata": {},
   "source": [
    "Integer(int)"
   ]
  },
  {
   "cell_type": "code",
   "execution_count": 31,
   "metadata": {},
   "outputs": [
    {
     "name": "stdout",
     "output_type": "stream",
     "text": [
      "<class 'int'>\n",
      "<class 'int'>\n",
      "<class 'int'>\n"
     ]
    }
   ],
   "source": [
    "x = 1\n",
    "y = 49345135059539345\n",
    "z = -423423424\n",
    "\n",
    "print(type(x))\n",
    "print(type(y))\n",
    "print(type(z))"
   ]
  },
  {
   "cell_type": "markdown",
   "metadata": {},
   "source": [
    "Floating Point Number(float)"
   ]
  },
  {
   "cell_type": "code",
   "execution_count": 33,
   "metadata": {},
   "outputs": [
    {
     "name": "stdout",
     "output_type": "stream",
     "text": [
      "<class 'float'>\n",
      "<class 'float'>\n",
      "<class 'float'>\n",
      "<class 'float'>\n",
      "<class 'float'>\n",
      "<class 'float'>\n"
     ]
    }
   ],
   "source": [
    "x = 1.2\n",
    "y = 3.0\n",
    "z = -33.6\n",
    "t = 23e4\n",
    "k = 23E3\n",
    "l = -92.4e100\n",
    "print(type(x))\n",
    "print(type(y))\n",
    "print(type(z))\n",
    "print(type(t))\n",
    "print(type(k))\n",
    "print(type(l))"
   ]
  },
  {
   "cell_type": "markdown",
   "metadata": {},
   "source": [
    "Complex(complex)"
   ]
  },
  {
   "cell_type": "code",
   "execution_count": 35,
   "metadata": {},
   "outputs": [
    {
     "name": "stdout",
     "output_type": "stream",
     "text": [
      "<class 'complex'>\n",
      "<class 'complex'>\n",
      "<class 'complex'>\n"
     ]
    }
   ],
   "source": [
    "x = 2 + 3j\n",
    "y = 11j\n",
    "z = -5j\n",
    "\n",
    "print(type(x))\n",
    "print(type(y))\n",
    "print(type(z))"
   ]
  },
  {
   "cell_type": "markdown",
   "metadata": {},
   "source": [
    "Conversion Between Data Types"
   ]
  },
  {
   "cell_type": "code",
   "execution_count": 37,
   "metadata": {},
   "outputs": [
    {
     "name": "stdout",
     "output_type": "stream",
     "text": [
      "2\n",
      "<class 'int'>\n"
     ]
    }
   ],
   "source": [
    "x = 2.65\n",
    "\n",
    "a = int(x)\n",
    "\n",
    "print(a)\n",
    "print(type(a))"
   ]
  },
  {
   "cell_type": "code",
   "execution_count": 44,
   "metadata": {},
   "outputs": [
    {
     "name": "stdout",
     "output_type": "stream",
     "text": [
      "1 2 4\n"
     ]
    }
   ],
   "source": [
    "x = int(1)\n",
    "y = int(2.7)\n",
    "z = int(\"4\")\n",
    "print(x, y, z)"
   ]
  },
  {
   "cell_type": "markdown",
   "metadata": {},
   "source": [
    "### Random Number"
   ]
  },
  {
   "cell_type": "code",
   "execution_count": 43,
   "metadata": {},
   "outputs": [
    {
     "name": "stdout",
     "output_type": "stream",
     "text": [
      "7\n"
     ]
    }
   ],
   "source": [
    "#you must import the random module\n",
    "import random\n",
    "print(random.randrange(1, 10))"
   ]
  },
  {
   "cell_type": "markdown",
   "metadata": {},
   "source": [
    "### Strings"
   ]
  },
  {
   "cell_type": "code",
   "execution_count": 49,
   "metadata": {},
   "outputs": [
    {
     "name": "stdout",
     "output_type": "stream",
     "text": [
      "Hello\n",
      "Hello\n",
      "Hello\n",
      "Hello\n"
     ]
    }
   ],
   "source": [
    "print(\"Hello\")\n",
    "print('Hello')\n",
    "a = \"Hello\"\n",
    "b = 'Hello'\n",
    "print(a)\n",
    "print(b)"
   ]
  },
  {
   "cell_type": "markdown",
   "metadata": {},
   "source": [
    "Multiline Stirngs:"
   ]
  },
  {
   "cell_type": "code",
   "execution_count": 47,
   "metadata": {},
   "outputs": [
    {
     "name": "stdout",
     "output_type": "stream",
     "text": [
      "What is better\n",
      "to be born good or\n",
      "over come your evil nature \n",
      "through great effort ? \n"
     ]
    }
   ],
   "source": [
    "a = \"\"\"What is better\n",
    "to be born good or\n",
    "over come your evil nature \n",
    "through great effort ? \"\"\"\n",
    "print(a)"
   ]
  },
  {
   "cell_type": "markdown",
   "metadata": {},
   "source": [
    "Strings are arrays of chars in python like many other languages."
   ]
  },
  {
   "cell_type": "code",
   "execution_count": 51,
   "metadata": {},
   "outputs": [
    {
     "name": "stdout",
     "output_type": "stream",
     "text": [
      "f\n"
     ]
    }
   ],
   "source": [
    "a = \"Sufuk\"\n",
    "print(a[2])"
   ]
  },
  {
   "cell_type": "markdown",
   "metadata": {},
   "source": [
    "Slicing Strings:"
   ]
  },
  {
   "cell_type": "code",
   "execution_count": 55,
   "metadata": {},
   "outputs": [
    {
     "name": "stdout",
     "output_type": "stream",
     "text": [
      "guler\n"
     ]
    }
   ],
   "source": [
    "a = \"sufuk guler\"\n",
    "print(a[6:11])"
   ]
  },
  {
   "cell_type": "code",
   "execution_count": 62,
   "metadata": {},
   "outputs": [
    {
     "name": "stdout",
     "output_type": "stream",
     "text": [
      "ufu\n"
     ]
    }
   ],
   "source": [
    "b = \"sufuk\"\n",
    "print(b[-4:-1])"
   ]
  },
  {
   "cell_type": "markdown",
   "metadata": {},
   "source": [
    "String Length"
   ]
  },
  {
   "cell_type": "code",
   "execution_count": 63,
   "metadata": {},
   "outputs": [
    {
     "name": "stdout",
     "output_type": "stream",
     "text": [
      "5\n"
     ]
    }
   ],
   "source": [
    "a = \"sufuk\"\n",
    "print(len(a))"
   ]
  },
  {
   "cell_type": "markdown",
   "metadata": {},
   "source": [
    "Sting Funcions:\n"
   ]
  },
  {
   "cell_type": "code",
   "execution_count": 66,
   "metadata": {},
   "outputs": [
    {
     "name": "stdout",
     "output_type": "stream",
     "text": [
      "sufuk guler\n"
     ]
    }
   ],
   "source": [
    "#lower returns string in lower case\n",
    "a = \"Sufuk Guler\"\n",
    "print(a.lower())"
   ]
  },
  {
   "cell_type": "code",
   "execution_count": 67,
   "metadata": {},
   "outputs": [
    {
     "name": "stdout",
     "output_type": "stream",
     "text": [
      "SUFUK\n"
     ]
    }
   ],
   "source": [
    "#upper() does vice versa\n",
    "a = \"sUFUK\"\n",
    "print(a.upper())"
   ]
  },
  {
   "cell_type": "code",
   "execution_count": 68,
   "metadata": {},
   "outputs": [
    {
     "name": "stdout",
     "output_type": "stream",
     "text": [
      "Safak\n"
     ]
    }
   ],
   "source": [
    "# replace() replaces the string with given another\n",
    "a = \"Sufuk\"\n",
    "print(a.replace(\"u\", \"a\"))"
   ]
  },
  {
   "cell_type": "code",
   "execution_count": 70,
   "metadata": {},
   "outputs": [
    {
     "name": "stdout",
     "output_type": "stream",
     "text": [
      "['Sufuk', ' Guler']\n"
     ]
    }
   ],
   "source": [
    "a = \"Sufuk, Guler\"\n",
    "print(a.split(\",\")) # returns ['Sufuj', ' Guler']"
   ]
  },
  {
   "cell_type": "markdown",
   "metadata": {},
   "source": [
    "Check string: (in, not in)\n",
    "we can use to check given string is in another string."
   ]
  },
  {
   "cell_type": "code",
   "execution_count": 73,
   "metadata": {},
   "outputs": [
    {
     "name": "stdout",
     "output_type": "stream",
     "text": [
      "True\n"
     ]
    }
   ],
   "source": [
    "a = '''I have two number nine, \n",
    "a number nine large,\n",
    "a number six with extra dip\n",
    "two number forty five one with chesee,\n",
    "and a large soda '''\n",
    "x = \"soda\" in a\n",
    "print(x)"
   ]
  },
  {
   "cell_type": "code",
   "execution_count": 74,
   "metadata": {},
   "outputs": [
    {
     "name": "stdout",
     "output_type": "stream",
     "text": [
      "False\n"
     ]
    }
   ],
   "source": [
    "a = '''I have two number nine, \n",
    "a number nine large,\n",
    "a number six with extra dip\n",
    "two number forty five one with chesee,\n",
    "and a large soda '''\n",
    "x = \"soda\" not in a\n",
    "print(x)"
   ]
  },
  {
   "cell_type": "markdown",
   "metadata": {},
   "source": [
    "Concatenation and Format"
   ]
  },
  {
   "cell_type": "code",
   "execution_count": 75,
   "metadata": {},
   "outputs": [
    {
     "name": "stdout",
     "output_type": "stream",
     "text": [
      "helloworld\n"
     ]
    }
   ],
   "source": [
    "a = \"hello\"\n",
    "b = \"world\"\n",
    "c = a + b \n",
    "print(c)"
   ]
  },
  {
   "cell_type": "code",
   "execution_count": 76,
   "metadata": {},
   "outputs": [
    {
     "name": "stdout",
     "output_type": "stream",
     "text": [
      "hello world\n"
     ]
    }
   ],
   "source": [
    "# if you wanna add space between them add a \" \" space like that\n",
    "a = \"hello\"\n",
    "b = \"world\"\n",
    "c = a + \" \" + b \n",
    "print(c)"
   ]
  },
  {
   "cell_type": "code",
   "execution_count": 78,
   "metadata": {},
   "outputs": [],
   "source": [
    "#you know we cant combine strings and other data types directly\n",
    "#but there is a way for that call format() method"
   ]
  },
  {
   "cell_type": "markdown",
   "metadata": {},
   "source": [
    "The format() method takes the passed arguments, formats them, and places them in the string where the placeholders {} are:\n"
   ]
  },
  {
   "cell_type": "code",
   "execution_count": 79,
   "metadata": {},
   "outputs": [
    {
     "name": "stdout",
     "output_type": "stream",
     "text": [
      "My name is Sufuk, and I am 20 years old\n"
     ]
    }
   ],
   "source": [
    "x = 20\n",
    "y = \"My name is Sufuk, and I am {} years old\"\n",
    "print(y.format(x))"
   ]
  },
  {
   "cell_type": "code",
   "execution_count": 81,
   "metadata": {},
   "outputs": [
    {
     "name": "stdout",
     "output_type": "stream",
     "text": [
      "I am 20 years old, my pa 57, years old, and my ma 50 years old\n"
     ]
    }
   ],
   "source": [
    "age1 = 57\n",
    "age2 = 50\n",
    "age3 = 20\n",
    "mystring = \"I am {} years old, my pa {}, years old, and my ma {} years old\"\n",
    "print(mystring.format(age3, age1, age2))"
   ]
  },
  {
   "cell_type": "code",
   "execution_count": 82,
   "metadata": {},
   "outputs": [
    {
     "name": "stdout",
     "output_type": "stream",
     "text": [
      "Least positivei integer is 1 , and least prime number is 2 \n"
     ]
    }
   ],
   "source": [
    "number1 = 1\n",
    "number2 = 2\n",
    "mystring = \"Least positivei integer is {1} , and least prime number is {0} \"\n",
    "print(mystring.format(number2, number1))"
   ]
  },
  {
   "cell_type": "markdown",
   "metadata": {},
   "source": [
    "#### Escape Characters"
   ]
  },
  {
   "cell_type": "raw",
   "metadata": {},
   "source": [
    "\\'\tSingle Quote\t\n",
    "\\\\\tBackslash\t\n",
    "\\n\tNew Line\t\n",
    "\\r\tCarriage Return\t\n",
    "\\t\tTab\t\n",
    "\\b\tBackspace\t\n",
    "\\f\tForm Feed\t\n",
    "\\ooo\tOctal value\t\n",
    "\\xhh\tHex value"
   ]
  },
  {
   "cell_type": "markdown",
   "metadata": {},
   "source": [
    "For example if you use \" or ' in your string youll get an error: like this:\n"
   ]
  },
  {
   "cell_type": "code",
   "execution_count": 91,
   "metadata": {},
   "outputs": [
    {
     "ename": "SyntaxError",
     "evalue": "invalid syntax (<ipython-input-91-73c8df7d0847>, line 1)",
     "output_type": "error",
     "traceback": [
      "\u001b[1;36m  File \u001b[1;32m\"<ipython-input-91-73c8df7d0847>\"\u001b[1;36m, line \u001b[1;32m1\u001b[0m\n\u001b[1;33m    a = \"We are the sons and daughters of \"skyrim\" \"\u001b[0m\n\u001b[1;37m                                                ^\u001b[0m\n\u001b[1;31mSyntaxError\u001b[0m\u001b[1;31m:\u001b[0m invalid syntax\n"
     ]
    }
   ],
   "source": [
    "a = \"We are the sons and daughters of \"skyrim\" \"\n",
    "print(a)\n"
   ]
  },
  {
   "cell_type": "markdown",
   "metadata": {},
   "source": [
    "To prevent this kind of errors we use escape characters:"
   ]
  },
  {
   "cell_type": "code",
   "execution_count": 92,
   "metadata": {},
   "outputs": [
    {
     "name": "stdout",
     "output_type": "stream",
     "text": [
      "We are the sons and daughters of \"skyrim\" \n"
     ]
    }
   ],
   "source": [
    "a = \"We are the sons and daughters of \\\"skyrim\\\" \"\n",
    "print(a)\n"
   ]
  },
  {
   "cell_type": "markdown",
   "metadata": {},
   "source": [
    "Other Methods for Strings:"
   ]
  },
  {
   "cell_type": "code",
   "execution_count": 94,
   "metadata": {},
   "outputs": [
    {
     "name": "stdout",
     "output_type": "stream",
     "text": [
      "Sufuk\n"
     ]
    }
   ],
   "source": [
    "#capitalize()\tConverts the first character to upper case\n",
    "a = \"sufuk\"\n",
    "print(a.capitalize())"
   ]
  },
  {
   "cell_type": "code",
   "execution_count": 99,
   "metadata": {},
   "outputs": [
    {
     "name": "stdout",
     "output_type": "stream",
     "text": [
      "sufuk guler\n"
     ]
    }
   ],
   "source": [
    "# casefold()\tConverts string into lower case\n",
    "a = \"SuFuK GuLeR\"\n",
    "print(a.casefold())"
   ]
  },
  {
   "cell_type": "code",
   "execution_count": 103,
   "metadata": {},
   "outputs": [
    {
     "name": "stdout",
     "output_type": "stream",
     "text": [
      "                                            Sufuk Guler                                             \n"
     ]
    }
   ],
   "source": [
    "# center()\tReturns a centered string\n",
    "a = \"Sufuk Guler\"\n",
    "print(a.center(100))"
   ]
  },
  {
   "cell_type": "code",
   "execution_count": 104,
   "metadata": {},
   "outputs": [
    {
     "name": "stdout",
     "output_type": "stream",
     "text": [
      "4\n"
     ]
    }
   ],
   "source": [
    "# count()\tReturns the number of times a specified value occurs in a string\n",
    "a = '''I have two number nine, \n",
    "a number nine large,\n",
    "a number six with extra dip\n",
    "two number forty five one with chesee,\n",
    "and a large soda '''\n",
    "print(a.count(\"number\"))"
   ]
  },
  {
   "cell_type": "code",
   "execution_count": 105,
   "metadata": {},
   "outputs": [
    {
     "name": "stdout",
     "output_type": "stream",
     "text": [
      "b'My name is St\\xc3\\xa5le'\n"
     ]
    }
   ],
   "source": [
    "# encode()\tReturns an encoded version of the string\n",
    "txt = \"My name is Ståle\"\n",
    "\n",
    "x = txt.encode()\n",
    "\n",
    "print(x)"
   ]
  },
  {
   "cell_type": "code",
   "execution_count": 107,
   "metadata": {},
   "outputs": [
    {
     "name": "stdout",
     "output_type": "stream",
     "text": [
      "True\n"
     ]
    }
   ],
   "source": [
    "# endswith()\tReturns true if the string ends with the specified value\n",
    "a = \"sufuk\"\n",
    "print(a.endswith(\"k\"))"
   ]
  },
  {
   "cell_type": "code",
   "execution_count": 109,
   "metadata": {},
   "outputs": [
    {
     "name": "stdout",
     "output_type": "stream",
     "text": [
      "s   u   f   u   k\n"
     ]
    }
   ],
   "source": [
    "# expandtabs()\tSets the tab size of the string\n",
    "a = \"s\\tu\\tf\\tu\\tk\"\n",
    "\n",
    "x =  a.expandtabs(4)\n",
    "\n",
    "print(x)\n"
   ]
  },
  {
   "cell_type": "code",
   "execution_count": 110,
   "metadata": {},
   "outputs": [
    {
     "name": "stdout",
     "output_type": "stream",
     "text": [
      "1\n"
     ]
    }
   ],
   "source": [
    "# find()\tSearches the string for a specified value and returns the position of where it was found\n",
    "\n",
    "a = \"12345678\"\n",
    "print(a.find(\"2\"))"
   ]
  },
  {
   "cell_type": "code",
   "execution_count": 111,
   "metadata": {},
   "outputs": [
    {
     "name": "stdout",
     "output_type": "stream",
     "text": [
      "3\n"
     ]
    }
   ],
   "source": [
    "# index()\tSearches the string for a specified value and returns the position of where it was found\n",
    "a = \"012345678\"\n",
    "print(a.index(\"3\"))"
   ]
  },
  {
   "cell_type": "markdown",
   "metadata": {},
   "source": [
    "Difference between find and index is str.find returns -1 when it does not find the substring.\n",
    "While str.index raises ValueError:"
   ]
  },
  {
   "cell_type": "code",
   "execution_count": 112,
   "metadata": {},
   "outputs": [
    {
     "name": "stdout",
     "output_type": "stream",
     "text": [
      "-1\n"
     ]
    }
   ],
   "source": [
    "a = \"12345678\"\n",
    "print(a.find(\"9\"))"
   ]
  },
  {
   "cell_type": "code",
   "execution_count": 113,
   "metadata": {},
   "outputs": [
    {
     "ename": "ValueError",
     "evalue": "substring not found",
     "output_type": "error",
     "traceback": [
      "\u001b[1;31m---------------------------------------------------------------------------\u001b[0m",
      "\u001b[1;31mValueError\u001b[0m                                Traceback (most recent call last)",
      "\u001b[1;32m<ipython-input-113-59c2313159ed>\u001b[0m in \u001b[0;36m<module>\u001b[1;34m\u001b[0m\n\u001b[0;32m      1\u001b[0m \u001b[0ma\u001b[0m \u001b[1;33m=\u001b[0m \u001b[1;34m\"12345678\"\u001b[0m\u001b[1;33m\u001b[0m\u001b[1;33m\u001b[0m\u001b[0m\n\u001b[1;32m----> 2\u001b[1;33m \u001b[0mprint\u001b[0m\u001b[1;33m(\u001b[0m\u001b[0ma\u001b[0m\u001b[1;33m.\u001b[0m\u001b[0mindex\u001b[0m\u001b[1;33m(\u001b[0m\u001b[1;34m\"9\"\u001b[0m\u001b[1;33m)\u001b[0m\u001b[1;33m)\u001b[0m\u001b[1;33m\u001b[0m\u001b[1;33m\u001b[0m\u001b[0m\n\u001b[0m",
      "\u001b[1;31mValueError\u001b[0m: substring not found"
     ]
    }
   ],
   "source": [
    "a = \"12345678\"\n",
    "print(a.index(\"9\"))"
   ]
  },
  {
   "cell_type": "markdown",
   "metadata": {},
   "source": [
    "As u can see above"
   ]
  },
  {
   "cell_type": "markdown",
   "metadata": {},
   "source": [
    "- capitalize()\tConverts the first character to upper case\n",
    "- casefold()\tConverts string into lower case\n",
    "- center()\tReturns a centered string\n",
    "- count()\tReturns the number of times a specified value occurs in a string\n",
    "- encode()\tReturns an encoded version of the string\n",
    "- endswith()\tReturns true if the string ends with the specified value\n",
    "- expandtabs()\tSets the tab size of the string\n",
    "- find()\tSearches the string for a specified value and returns the position of where it was found\n",
    "- format()\tFormats specified values in a string\n",
    "- format_map()\tFormats specified values in a string\n",
    "- index()\tSearches the string for a specified value and returns the position of where it was found\n",
    "- isalnum()\tReturns True if all characters in the string are alphanumeric\n",
    "- isalpha()\tReturns True if all characters in the string are in the alphabet\n",
    "- isdecimal()\tReturns True if all characters in the string are decimals\n",
    "- isdigit()\tReturns True if all characters in the string are digits\n",
    "- isidentifier()\tReturns True if the string is an identifier\n",
    "- islower()\tReturns True if all characters in the string are lower case\n",
    "- isnumeric()\tReturns True if all characters in the string are numeric\n",
    "- isprintable()\tReturns True if all characters in the string are printable\n",
    "- isspace()\tReturns True if all characters in the string are whitespaces\n",
    "- istitle()\tReturns True if the string follows the rules of a title\n",
    "- isupper()\tReturns True if all characters in the string are upper case\n",
    "- join()\tJoins the elements of an iterable to the end of the string\n",
    "- ljust()\tReturns a left justified version of the string\n",
    "- lower()\tConverts a string into lower case\n",
    "- lstrip()\tReturns a left trim version of the string\n",
    "- maketrans()\tReturns a translation table to be used in translations\n",
    "- partition()\tReturns a tuple where the string is parted into three parts\n",
    "- replace()\tReturns a string where a specified value is replaced with a specified value\n",
    "- rfind()\tSearches the string for a specified value and returns the last position of where it was found\n",
    "- rindex()\tSearches the string for a specified value and returns the last position of where it was found\n",
    "- rjust()\tReturns a right justified version of the string\n",
    "- rpartition()\tReturns a tuple where the string is parted into three parts\n",
    "- rsplit()\tSplits the string at the specified separator, and returns a list\n",
    "- rstrip()\tReturns a right trim version of the string\n",
    "- split()\tSplits the string at the specified separator, and returns a list\n",
    "- splitlines()\tSplits the string at line breaks and returns a list\n",
    "- startswith()\tReturns true if the string starts with the specified value\n",
    "- strip()\tReturns a trimmed version of the string\n",
    "- swapcase()\tSwaps cases, lower case becomes upper case and vice versa\n",
    "- title()\tConverts the first character of each word to upper case\n",
    "- translate()\tReturns a translated string\n",
    "- upper()\tConverts a string into upper case\n",
    "- zfill()\tFills the string with a specified number of 0 values at the beginning"
   ]
  },
  {
   "cell_type": "markdown",
   "metadata": {},
   "source": [
    "### Boolen Python"
   ]
  },
  {
   "cell_type": "code",
   "execution_count": 115,
   "metadata": {},
   "outputs": [
    {
     "name": "stdout",
     "output_type": "stream",
     "text": [
      "False\n",
      "False\n",
      "True\n"
     ]
    }
   ],
   "source": [
    "print(3 < 2)\n",
    "print(3 == 1)\n",
    "print(3 > 2)"
   ]
  },
  {
   "cell_type": "markdown",
   "metadata": {},
   "source": [
    "İf else statements also run on boolen expressions"
   ]
  },
  {
   "cell_type": "code",
   "execution_count": 116,
   "metadata": {},
   "outputs": [
    {
     "name": "stdout",
     "output_type": "stream",
     "text": [
      "b is greater then a\n"
     ]
    }
   ],
   "source": [
    "a = 10\n",
    "b = 20\n",
    "\n",
    "if b < a:\n",
    "    print(\"b is less then a\")\n",
    "else:\n",
    "    print(\"b is greater then a\")"
   ]
  },
  {
   "cell_type": "code",
   "execution_count": 118,
   "metadata": {},
   "outputs": [
    {
     "name": "stdout",
     "output_type": "stream",
     "text": [
      "True\n",
      "True\n"
     ]
    }
   ],
   "source": [
    "# bool() func gives you the oppurtinity to evalue thr stament or value is true or false\n",
    "print(bool(\"sufuk\"))\n",
    "print(bool(22))"
   ]
  },
  {
   "cell_type": "markdown",
   "metadata": {},
   "source": [
    "- Almost any value is evaluated to True if it has some sort of content.\n",
    "\n",
    "- Any string is True, except empty strings.\n",
    "\n",
    "- Any number is True, except 0.\n",
    "\n",
    "- Any list, tuple, set, and dictionary are True, except empty ones."
   ]
  },
  {
   "cell_type": "markdown",
   "metadata": {},
   "source": [
    "#### Python Operators\n"
   ]
  },
  {
   "cell_type": "markdown",
   "metadata": {},
   "source": [
    "# Python Arithmetic Operators\n",
    "\n",
    "- \\+\tAddition\tx + y\t\n",
    "- \\-\tSubtraction\tx - y\t\n",
    "- \\*\tMultiplication\tx * y\t\n",
    "- /\tDivision\tx / y\t\n",
    "- %\tModulus\tx % y\t\n",
    "- **\tExponentiation\tx ** y\t\n",
    "- //\tFloor division\tx // y\n"
   ]
  },
  {
   "cell_type": "raw",
   "metadata": {},
   "source": [
    "## # Python Assignment Operators\n",
    "\n",
    "=\tx = 5\tx = 5\t\n",
    "+=\tx += 3\tx = x + 3\t\n",
    "-=\tx -= 3\tx = x - 3\t\n",
    "*=\tx *= 3\tx = x * 3\t\n",
    "/=\tx /= 3\tx = x / 3\t\n",
    "%=\tx %= 3\tx = x % 3\t\n",
    "//=\tx //= 3\tx = x // 3\t\n",
    "**=\tx **= 3\tx = x ** 3\t\n",
    "&=\tx &= 3\tx = x & 3\t\n",
    "|=\tx |= 3\tx = x | 3\t\n",
    "^=\tx ^= 3\tx = x ^ 3\t\n",
    ">>=\tx >>= 3\tx = x >> 3\t\n",
    "<<=\tx <<= 3\tx = x << 3\n"
   ]
  },
  {
   "cell_type": "raw",
   "metadata": {},
   "source": [
    "==\tEqual\tx == y\t\n",
    "!=\tNot equal\tx != y\t\n",
    ">\tGreater than\tx > y\t\n",
    "<\tLess than\tx < y\t\n",
    ">=\tGreater than or equal to\tx >= y\t\n",
    "<=\tLess than or equal to\tx <= y"
   ]
  },
  {
   "cell_type": "raw",
   "metadata": {},
   "source": [
    "and \tReturns True if both statements are true\tx < 5 and  x < 10\t\n",
    "or\tReturns True if one of the statements is true\tx < 5 or x < 4\t\n",
    "not\tReverse the result, returns False if the result is true\tnot(x < 5 and x < 10"
   ]
  },
  {
   "cell_type": "markdown",
   "metadata": {},
   "source": [
    "#### Python Identity Operators"
   ]
  },
  {
   "cell_type": "raw",
   "metadata": {},
   "source": [
    "is \tReturns True if both variables are the same object\tx is y\t\n",
    "is not\tReturns True if both variables are not the same object\tx is not y"
   ]
  },
  {
   "cell_type": "markdown",
   "metadata": {},
   "source": [
    "#### Python Membership Operators\n"
   ]
  },
  {
   "cell_type": "raw",
   "metadata": {},
   "source": [
    "in \tReturns True if a sequence with the specified value is present in the object\tx in y\t\n",
    "not in\tReturns True if a sequence with the specified value is not present in the object\tx not in y\t\n"
   ]
  },
  {
   "cell_type": "markdown",
   "metadata": {},
   "source": [
    "#### Python Bitwise Operators\n"
   ]
  },
  {
   "cell_type": "raw",
   "metadata": {},
   "source": [
    "& \tAND\tSets each bit to 1 if both bits are 1\n",
    "|\tOR\tSets each bit to 1 if one of two bits is 1\n",
    " ^\tXOR\tSets each bit to 1 if only one of two bits is 1\n",
    "~ \tNOT\tInverts all the bits\n",
    "<<\tZero fill left shift\tShift left by pushing zeros in from the right and let the leftmost bits fall off\n",
    ">>\tSigned right shift\tShift right by pushing copies of the leftmost bit in from the left, and let the rightmost bits fall off"
   ]
  },
  {
   "cell_type": "markdown",
   "metadata": {},
   "source": [
    "#### Lists"
   ]
  },
  {
   "cell_type": "markdown",
   "metadata": {},
   "source": [
    "- List is a collection which is ordered and changeable. Allows duplicate members.\n",
    "- Tuple is a collection which is ordered and unchangeable. Allows duplicate members.\n",
    "- Set is a collection which is unordered and unindexed. No duplicate members.\n",
    "- Dictionary is a collection which is unordered, changeable and indexed. No duplicate members."
   ]
  },
  {
   "cell_type": "code",
   "execution_count": 7,
   "metadata": {},
   "outputs": [
    {
     "name": "stdout",
     "output_type": "stream",
     "text": [
      "['semih', 'ufuk', 'güler']\n",
      "ufuk\n",
      "güler\n",
      "['semih', 'ufuk']\n",
      "['semih']\n",
      "['semih', 'ufuk']\n",
      "['semih', 'ufuk', 'dogan']\n"
     ]
    }
   ],
   "source": [
    "my_list = [\"semih\", \"ufuk\", \"güler\"]\n",
    "print(my_list)\n",
    "print(my_list[1])\n",
    "print(my_list[-1])\n",
    "print(my_list[0:2])\n",
    "print(my_list[:1])\n",
    "print(my_list[-3:-1])\n",
    "my_list[2] = \"dogan\"\n",
    "print(my_list)"
   ]
  },
  {
   "cell_type": "code",
   "execution_count": 12,
   "metadata": {},
   "outputs": [
    {
     "name": "stdout",
     "output_type": "stream",
     "text": [
      "semih\n",
      "ufuk\n",
      "guler\n"
     ]
    }
   ],
   "source": [
    "my_list = [\"semih\", \"ufuk\", \"guler\"]\n",
    "for x in my_list:\n",
    "  print(x)"
   ]
  },
  {
   "cell_type": "code",
   "execution_count": 14,
   "metadata": {},
   "outputs": [
    {
     "name": "stdout",
     "output_type": "stream",
     "text": [
      "sufuk rulles\n",
      "3\n"
     ]
    }
   ],
   "source": [
    "my_list = [\"semih\", \"ufuk\", \"guler\"]\n",
    "if \"ufuk\" in my_list:\n",
    "    print(\"sufuk rulles\")\n",
    "\n",
    "print(len(my_list))"
   ]
  },
  {
   "cell_type": "code",
   "execution_count": 16,
   "metadata": {},
   "outputs": [
    {
     "name": "stdout",
     "output_type": "stream",
     "text": [
      "['semih', 'ufuk', 'guler', 'dogan']\n"
     ]
    }
   ],
   "source": [
    "#To add an item to the end of the list, use the append() method:\n",
    "my_list = [\"semih\", \"ufuk\", \"guler\"]\n",
    "my_list.append(\"dogan\")\n",
    "print(my_list)"
   ]
  },
  {
   "cell_type": "code",
   "execution_count": 19,
   "metadata": {},
   "outputs": [
    {
     "name": "stdout",
     "output_type": "stream",
     "text": [
      "['Doctor', 'semih', 'ufuk', 'guler']\n"
     ]
    }
   ],
   "source": [
    "#To add an item at the specified index, use the insert() method:\n",
    "my_list = [\"semih\", \"ufuk\", \"guler\"]\n",
    "my_list.insert(0, \"Doctor\")\n",
    "print(my_list)"
   ]
  },
  {
   "cell_type": "code",
   "execution_count": 20,
   "metadata": {},
   "outputs": [
    {
     "name": "stdout",
     "output_type": "stream",
     "text": [
      "['ufuk', 'guler']\n"
     ]
    }
   ],
   "source": [
    "#The remove() method removes the specified item:\n",
    "my_list = [\"semih\", \"ufuk\", \"guler\"]\n",
    "my_list.remove(\"semih\")\n",
    "print(my_list)"
   ]
  },
  {
   "cell_type": "code",
   "execution_count": 22,
   "metadata": {},
   "outputs": [
    {
     "name": "stdout",
     "output_type": "stream",
     "text": [
      "['semih', 'guler']\n"
     ]
    }
   ],
   "source": [
    "#The pop() method removes the specified index, (or the last item if index is not specified):\n",
    "\n",
    "my_list = [\"semih\", \"ufuk\", \"guler\"]\n",
    "my_list.pop(1)\n",
    "print(my_list)"
   ]
  },
  {
   "cell_type": "code",
   "execution_count": 23,
   "metadata": {},
   "outputs": [
    {
     "name": "stdout",
     "output_type": "stream",
     "text": [
      "['semih', 'guler']\n"
     ]
    }
   ],
   "source": [
    "# The del keyword removes the specified index:\n",
    "\n",
    "my_list = [\"semih\", \"ufuk\", \"guler\"]\n",
    "del my_list[1]\n",
    "print(my_list)"
   ]
  },
  {
   "cell_type": "code",
   "execution_count": 24,
   "metadata": {},
   "outputs": [
    {
     "ename": "NameError",
     "evalue": "name 'my_list' is not defined",
     "output_type": "error",
     "traceback": [
      "\u001b[1;31m---------------------------------------------------------------------------\u001b[0m",
      "\u001b[1;31mNameError\u001b[0m                                 Traceback (most recent call last)",
      "\u001b[1;32m<ipython-input-24-b31592af8341>\u001b[0m in \u001b[0;36m<module>\u001b[1;34m\u001b[0m\n\u001b[0;32m      2\u001b[0m \u001b[0mmy_list\u001b[0m \u001b[1;33m=\u001b[0m \u001b[1;33m[\u001b[0m\u001b[1;34m\"semih\"\u001b[0m\u001b[1;33m,\u001b[0m \u001b[1;34m\"ufuk\"\u001b[0m\u001b[1;33m,\u001b[0m \u001b[1;34m\"guler\"\u001b[0m\u001b[1;33m]\u001b[0m\u001b[1;33m\u001b[0m\u001b[1;33m\u001b[0m\u001b[0m\n\u001b[0;32m      3\u001b[0m \u001b[1;32mdel\u001b[0m \u001b[0mmy_list\u001b[0m\u001b[1;33m\u001b[0m\u001b[1;33m\u001b[0m\u001b[0m\n\u001b[1;32m----> 4\u001b[1;33m \u001b[0mprint\u001b[0m\u001b[1;33m(\u001b[0m\u001b[0mmy_list\u001b[0m\u001b[1;33m)\u001b[0m\u001b[1;33m\u001b[0m\u001b[1;33m\u001b[0m\u001b[0m\n\u001b[0m",
      "\u001b[1;31mNameError\u001b[0m: name 'my_list' is not defined"
     ]
    }
   ],
   "source": [
    "#The del keyword can also delete the list completely:\n",
    "my_list = [\"semih\", \"ufuk\", \"guler\"]\n",
    "del my_list\n",
    "print(my_list)"
   ]
  },
  {
   "cell_type": "markdown",
   "metadata": {},
   "source": [
    "As you can see this givest an error because del removed list completly"
   ]
  },
  {
   "cell_type": "code",
   "execution_count": 25,
   "metadata": {},
   "outputs": [
    {
     "name": "stdout",
     "output_type": "stream",
     "text": [
      "[]\n"
     ]
    }
   ],
   "source": [
    "# The clear() method empties the list:\n",
    "my_list = [\"semih\", \"ufuk\", \"guler\"]\n",
    "my_list.clear()\n",
    "print(my_list)\n"
   ]
  },
  {
   "cell_type": "markdown",
   "metadata": {},
   "source": [
    "You cannot copy a list simply by typing list2 = list1, because: list2 will only be a reference to list1, and changes made in list1 will automatically also be made in list2.\n",
    "There are ways to make a copy, one way is to use the built-in List method copy()."
   ]
  },
  {
   "cell_type": "code",
   "execution_count": 26,
   "metadata": {},
   "outputs": [
    {
     "name": "stdout",
     "output_type": "stream",
     "text": [
      "['semih', 'ufuk', 'guler']\n"
     ]
    }
   ],
   "source": [
    "my_list = [\"semih\", \"ufuk\", \"guler\"]\n",
    "my_list1 = my_list.copy()\n",
    "print(my_list1)\n"
   ]
  },
  {
   "cell_type": "code",
   "execution_count": 28,
   "metadata": {},
   "outputs": [
    {
     "name": "stdout",
     "output_type": "stream",
     "text": [
      "['semih', 'ufuk', 'guler']\n"
     ]
    }
   ],
   "source": [
    "#Another way to make a copy is to use the built-in method list().\n",
    "my_list = [\"semih\", \"ufuk\", \"guler\"]\n",
    "my_list1 = list(my_list)\n",
    "print(my_list1)"
   ]
  },
  {
   "cell_type": "markdown",
   "metadata": {},
   "source": [
    "Concreating Lists"
   ]
  },
  {
   "cell_type": "code",
   "execution_count": 1,
   "metadata": {},
   "outputs": [
    {
     "name": "stdout",
     "output_type": "stream",
     "text": [
      "['1', '2', '3', '4', '5', '6']\n"
     ]
    }
   ],
   "source": [
    "# + operator:\n",
    "my_list0 = [\"1\", \"2\", \"3\"]\n",
    "my_list1 = [\"4\", \"5\", \"6\"]\n",
    "my_list2 = my_list0 + my_list1\n",
    "print(my_list2)"
   ]
  },
  {
   "cell_type": "code",
   "execution_count": 2,
   "metadata": {},
   "outputs": [
    {
     "name": "stdout",
     "output_type": "stream",
     "text": [
      "['a', 'b', 'c', 1, 2, 3]\n"
     ]
    }
   ],
   "source": [
    "my_list0 = [\"a\", \"b\" , \"c\"]\n",
    "my_list1 = [1, 2, 3]\n",
    "\n",
    "for x in my_list1:\n",
    "  my_list0.append(x)\n",
    "\n",
    "print(my_list0)"
   ]
  },
  {
   "cell_type": "code",
   "execution_count": 3,
   "metadata": {},
   "outputs": [
    {
     "name": "stdout",
     "output_type": "stream",
     "text": [
      "['1', '2', '3', '4', '5', '6']\n"
     ]
    }
   ],
   "source": [
    "my_list0 = [\"1\", \"2\", \"3\"]\n",
    "my_list1 = [\"4\", \"5\", \"6\"]\n",
    "my_list0.extend(my_list1)\n",
    "print(my_list0)"
   ]
  },
  {
   "cell_type": "code",
   "execution_count": 4,
   "metadata": {},
   "outputs": [
    {
     "name": "stdout",
     "output_type": "stream",
     "text": [
      "['semih', 'ufuk', 'gler']\n"
     ]
    }
   ],
   "source": [
    "my_list = list((\"semih\", \"ufuk\", \"gler\")) # note the double round-brackets\n",
    "print(my_list)"
   ]
  },
  {
   "cell_type": "markdown",
   "metadata": {},
   "source": [
    "LIST METHODS:\n",
    "- append()\tAdds an element at the end of the list\n",
    "- clear()\tRemoves all the elements from the list\n",
    "- copy()\tReturns a copy of the list\n",
    "- count()\tReturns the number of elements with the specified value\n",
    "- extend()\tAdd the elements of a list (or any iterable), to the end of the current list\n",
    "- index()\tReturns the index of the first element with the specified value\n",
    "- insert()\tAdds an element at the specified position\n",
    "- pop()\tRemoves the element at the specified position\n",
    "- remove()\tRemoves the item with the specified value\n",
    "- reverse()\tReverses the order of the list\n",
    "- sort()\tSorts the list"
   ]
  },
  {
   "cell_type": "markdown",
   "metadata": {},
   "source": [
    "#### Tuples"
   ]
  },
  {
   "cell_type": "markdown",
   "metadata": {},
   "source": [
    "A tuple is a collection which is ordered and unchangeable. In Python tuples are written with round brackets.\n"
   ]
  },
  {
   "cell_type": "code",
   "execution_count": 5,
   "metadata": {},
   "outputs": [
    {
     "name": "stdout",
     "output_type": "stream",
     "text": [
      "('doctor', 'coskun', 'guler')\n"
     ]
    }
   ],
   "source": [
    "my_tuple = (\"doctor\", \"coskun\", \"guler\")\n",
    "print(my_tuple)"
   ]
  },
  {
   "cell_type": "code",
   "execution_count": 6,
   "metadata": {},
   "outputs": [
    {
     "name": "stdout",
     "output_type": "stream",
     "text": [
      "coskun\n"
     ]
    }
   ],
   "source": [
    "my_tuple = (\"doctor\", \"coskun\", \"guler\")\n",
    "print(my_tuple[1])"
   ]
  },
  {
   "cell_type": "markdown",
   "metadata": {},
   "source": [
    "Once a tuple is created, you cannot change its values. Tuples are unchangeable, or immutable as it also is called.\n",
    "\n",
    "But there is a workaround. You can convert the tuple into a list, change the list, and convert the list back into a tuple."
   ]
  },
  {
   "cell_type": "code",
   "execution_count": 7,
   "metadata": {},
   "outputs": [
    {
     "name": "stdout",
     "output_type": "stream",
     "text": [
      "('colonel', 'adil', 'ozgen')\n"
     ]
    }
   ],
   "source": [
    "x = (\"colonel\", \"eren\", \"ozgen\")\n",
    "y = list(x)\n",
    "y[1] = \"adil\"\n",
    "x = tuple(y)\n",
    "\n",
    "print(x)\n"
   ]
  },
  {
   "cell_type": "code",
   "execution_count": 9,
   "metadata": {},
   "outputs": [
    {
     "name": "stdout",
     "output_type": "stream",
     "text": [
      "isil\n",
      "nil\n",
      "guler\n"
     ]
    }
   ],
   "source": [
    "a = (\"isil\", \"nil\", \"guler\")\n",
    "for x in a:\n",
    "    print(x)"
   ]
  },
  {
   "cell_type": "code",
   "execution_count": 10,
   "metadata": {},
   "outputs": [
    {
     "ename": "TypeError",
     "evalue": "'tuple' object does not support item assignment",
     "output_type": "error",
     "traceback": [
      "\u001b[1;31m---------------------------------------------------------------------------\u001b[0m",
      "\u001b[1;31mTypeError\u001b[0m                                 Traceback (most recent call last)",
      "\u001b[1;32m<ipython-input-10-185c62490d1d>\u001b[0m in \u001b[0;36m<module>\u001b[1;34m\u001b[0m\n\u001b[0;32m      1\u001b[0m \u001b[1;31m#Once a tuple is created, you cannot add items to it. Tuples are unchangeable.\u001b[0m\u001b[1;33m\u001b[0m\u001b[1;33m\u001b[0m\u001b[1;33m\u001b[0m\u001b[0m\n\u001b[0;32m      2\u001b[0m \u001b[0ma\u001b[0m \u001b[1;33m=\u001b[0m \u001b[1;33m(\u001b[0m\u001b[1;34m\"seimh\"\u001b[0m\u001b[1;33m,\u001b[0m \u001b[1;34m\"ufuk\"\u001b[0m\u001b[1;33m,\u001b[0m \u001b[1;34m\"guler\"\u001b[0m\u001b[1;33m)\u001b[0m\u001b[1;33m\u001b[0m\u001b[1;33m\u001b[0m\u001b[0m\n\u001b[1;32m----> 3\u001b[1;33m \u001b[0ma\u001b[0m\u001b[1;33m[\u001b[0m\u001b[1;36m3\u001b[0m\u001b[1;33m]\u001b[0m \u001b[1;33m=\u001b[0m \u001b[1;34m\"dogan\"\u001b[0m\u001b[1;33m\u001b[0m\u001b[1;33m\u001b[0m\u001b[0m\n\u001b[0m\u001b[0;32m      4\u001b[0m \u001b[0mprint\u001b[0m\u001b[1;33m(\u001b[0m\u001b[0ma\u001b[0m\u001b[1;33m)\u001b[0m\u001b[1;33m\u001b[0m\u001b[1;33m\u001b[0m\u001b[0m\n",
      "\u001b[1;31mTypeError\u001b[0m: 'tuple' object does not support item assignment"
     ]
    }
   ],
   "source": [
    "#Once a tuple is created, you cannot add items to it. Tuples are unchangeable.\n",
    "a = (\"seimh\", \"ufuk\", \"guler\")\n",
    "a[3] = \"dogan\" \n",
    "print(a)"
   ]
  },
  {
   "cell_type": "code",
   "execution_count": 11,
   "metadata": {},
   "outputs": [
    {
     "name": "stdout",
     "output_type": "stream",
     "text": [
      "<class 'tuple'>\n",
      "<class 'str'>\n"
     ]
    }
   ],
   "source": [
    "# To create a tuple with only one item, you have to add \n",
    "# a comma after the item, otherwise Python will not recognize it as a tuple.\n",
    "a = (\"sufuk\",)\n",
    "print(type(a))\n",
    "\n",
    "#NOT a tuple\n",
    "b = (\"sufuk\")\n",
    "print(type(b))"
   ]
  },
  {
   "cell_type": "code",
   "execution_count": 12,
   "metadata": {},
   "outputs": [],
   "source": [
    "# Tuples are unchangeable, so you cannot remove items from it, but you can delete the tuple completely:\n",
    "\n",
    "a = (\"senih\", \"ufuk\", \"guler\")\n",
    "del a"
   ]
  },
  {
   "cell_type": "code",
   "execution_count": 14,
   "metadata": {},
   "outputs": [
    {
     "name": "stdout",
     "output_type": "stream",
     "text": [
      "('1', '2', '3', 4, 5, 6)\n"
     ]
    }
   ],
   "source": [
    "# join two tuples\n",
    "tuple0 = (\"1\", \"2\" , \"3\")\n",
    "tuple1 = (4, 5, 6)\n",
    "\n",
    "tuple2 = tuple0 + tuple1\n",
    "print(tuple2)"
   ]
  },
  {
   "cell_type": "code",
   "execution_count": 15,
   "metadata": {},
   "outputs": [
    {
     "name": "stdout",
     "output_type": "stream",
     "text": [
      "('sufuk', 'eren', 'erdem')\n"
     ]
    }
   ],
   "source": [
    "tuple0 = tuple((\"sufuk\", \"eren\", \"erdem\")) # note the double round-brackets\n",
    "print(tuple0)"
   ]
  },
  {
   "cell_type": "markdown",
   "metadata": {},
   "source": [
    "##### Sets"
   ]
  },
  {
   "cell_type": "markdown",
   "metadata": {},
   "source": [
    "A set is a collection which is unordered and unindexed. In Python sets are written with curly brackets.\n"
   ]
  },
  {
   "cell_type": "code",
   "execution_count": 18,
   "metadata": {},
   "outputs": [
    {
     "name": "stdout",
     "output_type": "stream",
     "text": [
      "{'ufuk', 'semih', 'guler'}\n"
     ]
    }
   ],
   "source": [
    "a = {\"semih\", \"ufuk\", \"guler\"}\n",
    "print(a)"
   ]
  },
  {
   "cell_type": "markdown",
   "metadata": {},
   "source": [
    "You cannot access items in a set by referring to an index,\n",
    "since sets are unordered the items has no index.\n",
    "But you can loop through the set items using a for loop, \n",
    "or ask if a specified value is present in a set, by using the in keyword."
   ]
  },
  {
   "cell_type": "code",
   "execution_count": 22,
   "metadata": {},
   "outputs": [
    {
     "name": "stdout",
     "output_type": "stream",
     "text": [
      "ufuk\n",
      "semih\n",
      "guler\n"
     ]
    }
   ],
   "source": [
    "a = {\"semih\", \"ufuk\", \"guler\"}\n",
    "for x in a:\n",
    "    print(x)"
   ]
  },
  {
   "cell_type": "code",
   "execution_count": 23,
   "metadata": {},
   "outputs": [
    {
     "name": "stdout",
     "output_type": "stream",
     "text": [
      "True\n"
     ]
    }
   ],
   "source": [
    "a = {\"semih\", \"ufuk\"}\n",
    "print(\"ufuk\" in a)"
   ]
  },
  {
   "cell_type": "code",
   "execution_count": 25,
   "metadata": {},
   "outputs": [
    {
     "name": "stdout",
     "output_type": "stream",
     "text": [
      "{'ufuk', 'guler', 'semih'}\n",
      "{'prof', 'doctor', 'semih', 'ufuk', 'guler'}\n"
     ]
    }
   ],
   "source": [
    "#Once a set is created, you cannot change its items, but you can add new items.\n",
    "#To add one item to a set use the add() method.\n",
    "#To add more than one item to a set use the update() method.\n",
    "a = {\"ufuk\", \"guler\"}\n",
    "a.add(\"semih\")\n",
    "print(a)\n",
    "a.update([\"prof\", \"doctor\"])\n",
    "print(a)"
   ]
  },
  {
   "cell_type": "code",
   "execution_count": 26,
   "metadata": {},
   "outputs": [
    {
     "name": "stdout",
     "output_type": "stream",
     "text": [
      "{'guler'}\n"
     ]
    }
   ],
   "source": [
    "a = {\"ufuk\", \"guler\"}\n",
    "a.remove(\"ufuk\")\n",
    "print(a)\n",
    "# Note: If the item to remove does not exist, remove() will raise an error."
   ]
  },
  {
   "cell_type": "code",
   "execution_count": 28,
   "metadata": {
    "scrolled": true
   },
   "outputs": [
    {
     "name": "stdout",
     "output_type": "stream",
     "text": [
      "{'guler'}\n"
     ]
    }
   ],
   "source": [
    "a = {\"ufuk\", \"guler\"}\n",
    "a.discard(\"ufuk\")\n",
    "print(a)\n",
    "#Note: If the item to remove does not exist, discard() will NOT raise an error."
   ]
  },
  {
   "cell_type": "markdown",
   "metadata": {},
   "source": [
    "You can also use the pop(), method to remove an item, but this method will remove the last item. Remember that sets are unordered, so you will not know what item that gets removed.\n",
    "\n",
    "The return value of the pop() method is the removed item.\n",
    "Note: Sets are unordered, so when using the pop() method, you will not know which item that gets removed.\n",
    "\n"
   ]
  },
  {
   "cell_type": "code",
   "execution_count": 30,
   "metadata": {},
   "outputs": [
    {
     "name": "stdout",
     "output_type": "stream",
     "text": [
      "ufuk\n",
      "{'semih', 'guler'}\n"
     ]
    }
   ],
   "source": [
    "# Remove the last item by using the pop() method:\n",
    "a = {\"semih\", \"ufuk\", \"guler\"}\n",
    "b = a.pop()\n",
    "print(b)\n",
    "print(a)"
   ]
  },
  {
   "cell_type": "code",
   "execution_count": 33,
   "metadata": {},
   "outputs": [
    {
     "name": "stdout",
     "output_type": "stream",
     "text": [
      "set()\n"
     ]
    }
   ],
   "source": [
    "a = {\"ufuk\", \"guler\"}\n",
    "a.clear()\n",
    "print(a)"
   ]
  },
  {
   "cell_type": "markdown",
   "metadata": {},
   "source": [
    "There are several ways to join two or more sets in Python.\n",
    "\n",
    "You can use the union() method that returns a new set containing all items from both sets, or the update() method that inserts all the items from one set into another:"
   ]
  },
  {
   "cell_type": "code",
   "execution_count": 35,
   "metadata": {},
   "outputs": [
    {
     "name": "stdout",
     "output_type": "stream",
     "text": [
      "{'1', '2', 4, '3', 5, 6}\n"
     ]
    }
   ],
   "source": [
    "set0 = {\"1\", \"2\" , \"3\"}\n",
    "set1 = {4, 5, 6}\n",
    "\n",
    "set2 = set0.union(set1)\n",
    "print(set2)"
   ]
  },
  {
   "cell_type": "code",
   "execution_count": 36,
   "metadata": {},
   "outputs": [
    {
     "name": "stdout",
     "output_type": "stream",
     "text": [
      "{'1', '2', 4, '3', 5, 6}\n"
     ]
    }
   ],
   "source": [
    "set0 = {\"1\", \"2\" , \"3\"}\n",
    "set1 = {4, 5, 6}\n",
    "\n",
    "set0.update(set1)\n",
    "print(set0)"
   ]
  },
  {
   "cell_type": "code",
   "execution_count": 37,
   "metadata": {},
   "outputs": [
    {
     "name": "stdout",
     "output_type": "stream",
     "text": [
      "{'ufuk', 'semih', 'guler'}\n"
     ]
    }
   ],
   "source": [
    "a = set((\"semih\", \"ufuk\", \"guler\")) # note the double round-brackets\n",
    "print(a)"
   ]
  },
  {
   "cell_type": "markdown",
   "metadata": {},
   "source": [
    "Set Methods\n",
    "- add()\tAdds an element to the set\n",
    "- clear()\tRemoves all the elements from the set\n",
    "- copy()\tReturns a copy of the set\n",
    "- difference()\tReturns a set containing the difference between two or more sets\n",
    "- difference_update()\tRemoves the items in this set that are also included in another, specified set\n",
    "- discard()\tRemove the specified item\n",
    "- intersection()\tReturns a set, that is the intersection of two other sets\n",
    "- intersection_update()\tRemoves the items in this set that are not present in other, specified set(s)\n",
    "- isdisjoint()\tReturns whether two sets have a intersection or not\n",
    "- issubset()\tReturns whether another set contains this set or not\n",
    "- issuperset()\tReturns whether this set contains another set or not\n",
    "- pop()\tRemoves an element from the set\n",
    "- remove()\tRemoves the specified element\n",
    "- symmetric_difference()\tReturns a set with the symmetric differences of two sets\n",
    "- symmetric_difference_update()\tinserts the symmetric differences from this set and another\n",
    "- union()\tReturn a set containing the union of sets\n",
    "- update()\tUpdate the set with the union of this set and others\n",
    "\n"
   ]
  },
  {
   "cell_type": "markdown",
   "metadata": {},
   "source": [
    "##### Python Dictionaries"
   ]
  },
  {
   "cell_type": "markdown",
   "metadata": {},
   "source": [
    "A dictionary is a collection which is unordered, changeable and indexed. In Python dictionaries are written with curly brackets, and they have keys and values."
   ]
  },
  {
   "cell_type": "code",
   "execution_count": 1,
   "metadata": {},
   "outputs": [
    {
     "name": "stdout",
     "output_type": "stream",
     "text": [
      "{'name': 'sufuk', 'branch': 'ee', 'age': 20}\n"
     ]
    }
   ],
   "source": [
    "a = {\n",
    "  \"name\": \"sufuk\",\n",
    "  \"branch\": \"ee\",\n",
    "  \"age\": 20\n",
    "}\n",
    "print(a)"
   ]
  },
  {
   "cell_type": "code",
   "execution_count": 2,
   "metadata": {},
   "outputs": [
    {
     "name": "stdout",
     "output_type": "stream",
     "text": [
      "sufuk\n"
     ]
    }
   ],
   "source": [
    "a = {\n",
    "  \"name\": \"sufuk\",\n",
    "  \"branch\": \"ee\",\n",
    "  \"age\": 20\n",
    "}\n",
    "x = a[\"name\"]\n",
    "print(x)"
   ]
  },
  {
   "cell_type": "code",
   "execution_count": 3,
   "metadata": {},
   "outputs": [
    {
     "name": "stdout",
     "output_type": "stream",
     "text": [
      "sufuk\n"
     ]
    }
   ],
   "source": [
    "a = {\n",
    "  \"name\": \"sufuk\",\n",
    "  \"branch\": \"ee\",\n",
    "  \"age\": 20\n",
    "}\n",
    "x = a.get(\"name\")\n",
    "print(x)"
   ]
  },
  {
   "cell_type": "code",
   "execution_count": 4,
   "metadata": {},
   "outputs": [
    {
     "name": "stdout",
     "output_type": "stream",
     "text": [
      "{'name': 'semih', 'branch': 'ee', 'age': 20}\n"
     ]
    }
   ],
   "source": [
    "a = {\n",
    "  \"name\": \"sufuk\",\n",
    "  \"branch\": \"ee\",\n",
    "  \"age\": 20\n",
    "}\n",
    "a[\"name\"] = \"semih\"\n",
    "print(a)"
   ]
  },
  {
   "cell_type": "code",
   "execution_count": 5,
   "metadata": {},
   "outputs": [
    {
     "name": "stdout",
     "output_type": "stream",
     "text": [
      "name\n",
      "branch\n",
      "age\n"
     ]
    }
   ],
   "source": [
    "a = {\n",
    "  \"name\": \"sufuk\",\n",
    "  \"branch\": \"ee\",\n",
    "  \"age\": 20\n",
    "}\n",
    "for x in a:\n",
    "    print(x)"
   ]
  },
  {
   "cell_type": "code",
   "execution_count": 6,
   "metadata": {},
   "outputs": [
    {
     "name": "stdout",
     "output_type": "stream",
     "text": [
      "sufuk\n",
      "ee\n",
      "20\n"
     ]
    }
   ],
   "source": [
    "a = {\n",
    "  \"name\": \"sufuk\",\n",
    "  \"branch\": \"ee\",\n",
    "  \"age\": 20\n",
    "}\n",
    "for x in a:\n",
    "    print(a[x])"
   ]
  },
  {
   "cell_type": "code",
   "execution_count": 7,
   "metadata": {},
   "outputs": [
    {
     "name": "stdout",
     "output_type": "stream",
     "text": [
      "sufuk\n",
      "ee\n",
      "20\n"
     ]
    }
   ],
   "source": [
    "a = {\n",
    "  \"name\": \"sufuk\",\n",
    "  \"branch\": \"ee\",\n",
    "  \"age\": 20\n",
    "}\n",
    "for x in a.values():\n",
    "    print(x)"
   ]
  },
  {
   "cell_type": "code",
   "execution_count": 8,
   "metadata": {},
   "outputs": [
    {
     "name": "stdout",
     "output_type": "stream",
     "text": [
      "name sufuk\n",
      "branch ee\n",
      "age 20\n"
     ]
    }
   ],
   "source": [
    "a = {\n",
    "  \"name\": \"sufuk\",\n",
    "  \"branch\": \"ee\",\n",
    "  \"age\": 20\n",
    "}\n",
    "for x, y  in a.items():\n",
    "    print(x, y)"
   ]
  },
  {
   "cell_type": "code",
   "execution_count": 10,
   "metadata": {},
   "outputs": [
    {
     "name": "stdout",
     "output_type": "stream",
     "text": [
      "yes\n"
     ]
    }
   ],
   "source": [
    "a = {\n",
    "  \"name\": \"sufuk\",\n",
    "  \"branch\": \"ee\",\n",
    "  \"age\": 20\n",
    "}\n",
    "if \"name\" in a:\n",
    "    print(\"yes\")"
   ]
  },
  {
   "cell_type": "markdown",
   "metadata": {},
   "source": [
    "length of a dic:"
   ]
  },
  {
   "cell_type": "code",
   "execution_count": 11,
   "metadata": {},
   "outputs": [
    {
     "name": "stdout",
     "output_type": "stream",
     "text": [
      "3\n"
     ]
    }
   ],
   "source": [
    "a = {\n",
    "  \"name\": \"sufuk\",\n",
    "  \"branch\": \"ee\",\n",
    "  \"age\": 20\n",
    "}\n",
    "print(len(a))"
   ]
  },
  {
   "cell_type": "markdown",
   "metadata": {},
   "source": [
    "adding itesms to the dict:"
   ]
  },
  {
   "cell_type": "code",
   "execution_count": 12,
   "metadata": {},
   "outputs": [
    {
     "name": "stdout",
     "output_type": "stream",
     "text": [
      "{'name': 'sufuk', 'branch': 'ee', 'age': 20, 'place of birth': 'kayseri'}\n"
     ]
    }
   ],
   "source": [
    "a = {\n",
    "  \"name\": \"sufuk\",\n",
    "  \"branch\": \"ee\",\n",
    "  \"age\": 20\n",
    "}\n",
    "a[\"place of birth\"] = \"kayseri\"\n",
    "print(a)"
   ]
  },
  {
   "cell_type": "markdown",
   "metadata": {},
   "source": [
    "removing  items from dict:\n"
   ]
  },
  {
   "cell_type": "code",
   "execution_count": 13,
   "metadata": {},
   "outputs": [
    {
     "name": "stdout",
     "output_type": "stream",
     "text": [
      "{'branch': 'ee', 'age': 20}\n"
     ]
    }
   ],
   "source": [
    "a = {\n",
    "  \"name\": \"sufuk\",\n",
    "  \"branch\": \"ee\",\n",
    "  \"age\": 20\n",
    "}\n",
    "a.pop(\"name\")\n",
    "print((a))"
   ]
  },
  {
   "cell_type": "markdown",
   "metadata": {},
   "source": [
    "The popitem() method removes the last inserted item (in versions before 3.7, a random item is removed instead):\n",
    "\n"
   ]
  },
  {
   "cell_type": "code",
   "execution_count": 14,
   "metadata": {},
   "outputs": [
    {
     "name": "stdout",
     "output_type": "stream",
     "text": [
      "{'name': 'sufuk', 'branch': 'ee'}\n"
     ]
    }
   ],
   "source": [
    "a = {\n",
    "  \"name\": \"sufuk\",\n",
    "  \"branch\": \"ee\",\n",
    "  \"age\": 20\n",
    "}\n",
    "a.popitem()\n",
    "print((a))"
   ]
  },
  {
   "cell_type": "markdown",
   "metadata": {},
   "source": [
    "The del keyword removes the item with the specified key name:\n",
    "\n"
   ]
  },
  {
   "cell_type": "code",
   "execution_count": 15,
   "metadata": {},
   "outputs": [
    {
     "name": "stdout",
     "output_type": "stream",
     "text": [
      "{'branch': 'ee', 'age': 20}\n"
     ]
    }
   ],
   "source": [
    "a = {\n",
    "  \"name\": \"sufuk\",\n",
    "  \"branch\": \"ee\",\n",
    "  \"age\": 20\n",
    "}\n",
    "del a[\"name\"]\n",
    "print(a)"
   ]
  },
  {
   "cell_type": "markdown",
   "metadata": {},
   "source": [
    "The del keyword can also delete the dictionary completely:\n",
    "\n"
   ]
  },
  {
   "cell_type": "code",
   "execution_count": 16,
   "metadata": {},
   "outputs": [
    {
     "ename": "NameError",
     "evalue": "name 'a' is not defined",
     "output_type": "error",
     "traceback": [
      "\u001b[1;31m---------------------------------------------------------------------------\u001b[0m",
      "\u001b[1;31mNameError\u001b[0m                                 Traceback (most recent call last)",
      "\u001b[1;32m<ipython-input-16-d57f05b026b0>\u001b[0m in \u001b[0;36m<module>\u001b[1;34m\u001b[0m\n\u001b[0;32m      5\u001b[0m }\n\u001b[0;32m      6\u001b[0m \u001b[1;32mdel\u001b[0m \u001b[0ma\u001b[0m\u001b[1;33m\u001b[0m\u001b[1;33m\u001b[0m\u001b[0m\n\u001b[1;32m----> 7\u001b[1;33m \u001b[0mprint\u001b[0m\u001b[1;33m(\u001b[0m\u001b[0ma\u001b[0m\u001b[1;33m)\u001b[0m\u001b[1;33m\u001b[0m\u001b[1;33m\u001b[0m\u001b[0m\n\u001b[0m",
      "\u001b[1;31mNameError\u001b[0m: name 'a' is not defined"
     ]
    }
   ],
   "source": [
    "a = {\n",
    "  \"name\": \"sufuk\",\n",
    "  \"branch\": \"ee\",\n",
    "  \"age\": 20\n",
    "}\n",
    "del a\n",
    "print(a)"
   ]
  },
  {
   "cell_type": "code",
   "execution_count": 17,
   "metadata": {},
   "outputs": [
    {
     "name": "stdout",
     "output_type": "stream",
     "text": [
      "{}\n"
     ]
    }
   ],
   "source": [
    "a = {\n",
    "  \"name\": \"sufuk\",\n",
    "  \"branch\": \"ee\",\n",
    "  \"age\": 20\n",
    "}\n",
    "a.clear()\n",
    "print(a)"
   ]
  },
  {
   "cell_type": "markdown",
   "metadata": {},
   "source": [
    "Copy a Dict"
   ]
  },
  {
   "cell_type": "code",
   "execution_count": 18,
   "metadata": {},
   "outputs": [
    {
     "name": "stdout",
     "output_type": "stream",
     "text": [
      "{'name': 'sufuk', 'branch': 'ee', 'age': 20}\n"
     ]
    }
   ],
   "source": [
    "a = {\n",
    "  \"name\": \"sufuk\",\n",
    "  \"branch\": \"ee\",\n",
    "  \"age\": 20\n",
    "}\n",
    "b = a.copy()\n",
    "print(b)"
   ]
  },
  {
   "cell_type": "code",
   "execution_count": 20,
   "metadata": {},
   "outputs": [
    {
     "name": "stdout",
     "output_type": "stream",
     "text": [
      "{'name': 'sufuk', 'branch': 'ee', 'age': 20}\n"
     ]
    }
   ],
   "source": [
    "a = {\n",
    "  \"name\": \"sufuk\",\n",
    "  \"branch\": \"ee\",\n",
    "  \"age\": 20\n",
    "}\n",
    "b = dict(a)\n",
    "print(b)"
   ]
  },
  {
   "cell_type": "markdown",
   "metadata": {},
   "source": [
    "Nested Dicts"
   ]
  },
  {
   "cell_type": "code",
   "execution_count": 22,
   "metadata": {},
   "outputs": [
    {
     "name": "stdout",
     "output_type": "stream",
     "text": [
      "{'person0': {'name': 'sufk', 'year': 2000}, 'person1': {'name': 'nil', 'year': 2007}, 'person2': {'name': 'coskun', 'year': 2011}}\n"
     ]
    }
   ],
   "source": [
    "gulers = {\n",
    "  \"person0\" : {\n",
    "    \"name\" : \"sufk\",\n",
    "    \"year\" : 2000\n",
    "  },\n",
    "  \"person1\" : {\n",
    "    \"name\" : \"nil\",\n",
    "    \"year\" : 2007\n",
    "  },\n",
    "  \"person2\" : {\n",
    "    \"name\" : \"coskun\",\n",
    "    \"year\" : 2011\n",
    "  }\n",
    "}\n",
    "print(gulers)"
   ]
  },
  {
   "cell_type": "code",
   "execution_count": 31,
   "metadata": {},
   "outputs": [
    {
     "name": "stdout",
     "output_type": "stream",
     "text": [
      "{'person0': {'namee': 'sufuk', 'age': 20}, 'person1': {'namee': 'erdem', 'age': 26}, 'person2': {'namee': 'eren', 'age': 30}}\n"
     ]
    }
   ],
   "source": [
    "person0 = {\n",
    "    \"namee\" : \"sufuk\",\n",
    "    \"age\" : 20\n",
    "}\n",
    "\n",
    "person1 = {\n",
    "    \"namee\" : \"erdem\",\n",
    "    \"age\" : 26\n",
    "}\n",
    "\n",
    "person2 = {\n",
    "    \"namee\" : \"eren\",\n",
    "    \"age\" : 30\n",
    "}\n",
    "community = {\n",
    "    \"person0\" : person0,\n",
    "    \"person1\" : person1,\n",
    "    \"person2\" : person2\n",
    "}\n",
    "print(community)"
   ]
  },
  {
   "cell_type": "code",
   "execution_count": 34,
   "metadata": {},
   "outputs": [
    {
     "name": "stdout",
     "output_type": "stream",
     "text": [
      "{'name': 'sufuk', 'age': 20}\n"
     ]
    }
   ],
   "source": [
    "a = dict(name = \"sufuk\", age = 20)\n",
    "# note that keywords are not string literals\n",
    "# note the use of equals rather than colon for the assignment\n",
    "print(a)"
   ]
  },
  {
   "cell_type": "markdown",
   "metadata": {},
   "source": [
    "- clear()\tRemoves all the elements from the dictionary\n",
    "- copy()\tReturns a copy of the dictionary\n",
    "- fromkeys()\tReturns a dictionary with the specified keys and value\n",
    "- get()\tReturns the value of the specified key\n",
    "- items()\tReturns a list containing a tuple for each key value pair\n",
    "- keys()\tReturns a list containing the dictionary's keys\n",
    "- pop()\tRemoves the element with the specified key\n",
    "- popitem()\tRemoves the last inserted key-value pair\n",
    "- setdefault()\tReturns the value of the specified key. If the key does not exist: insert the key, with the specified value\n",
    "- update()\tUpdates the dictionary with the specified key-value pairs\n",
    "- values()\tReturns a list of all the values in the dictionary"
   ]
  },
  {
   "cell_type": "markdown",
   "metadata": {},
   "source": [
    "#### IF Else"
   ]
  },
  {
   "cell_type": "code",
   "execution_count": 3,
   "metadata": {},
   "outputs": [
    {
     "name": "stdout",
     "output_type": "stream",
     "text": [
      "b greater than a\n"
     ]
    }
   ],
   "source": [
    "a = 23\n",
    "b = 32\n",
    "if b > a :\n",
    "    print(\"b greater than a\")\n",
    "else:\n",
    "    print(\"a greater than b\")"
   ]
  },
  {
   "cell_type": "markdown",
   "metadata": {},
   "source": [
    "Elif works only if the above if is not true "
   ]
  },
  {
   "cell_type": "code",
   "execution_count": 4,
   "metadata": {},
   "outputs": [
    {
     "name": "stdout",
     "output_type": "stream",
     "text": [
      "hello\n"
     ]
    }
   ],
   "source": [
    "a = 22\n",
    "b = 22\n",
    "\n",
    "if b > a:\n",
    "    print(\"hi\")\n",
    "elif a == b:\n",
    "    print(\"hello\")"
   ]
  },
  {
   "cell_type": "code",
   "execution_count": 5,
   "metadata": {},
   "outputs": [
    {
     "name": "stdout",
     "output_type": "stream",
     "text": [
      "hi\n"
     ]
    }
   ],
   "source": [
    "a = 22\n",
    "b = 22\n",
    "\n",
    "if b == 22:\n",
    "    print(\"hi\")\n",
    "elif a == b:\n",
    "    print(\"hello\")"
   ]
  },
  {
   "cell_type": "code",
   "execution_count": 6,
   "metadata": {},
   "outputs": [
    {
     "name": "stdout",
     "output_type": "stream",
     "text": [
      "hello\n"
     ]
    }
   ],
   "source": [
    "a = 22\n",
    "b = 33\n",
    "if a < b : print(\"hello\")"
   ]
  },
  {
   "cell_type": "code",
   "execution_count": 7,
   "metadata": {},
   "outputs": [
    {
     "name": "stdout",
     "output_type": "stream",
     "text": [
      "hello\n"
     ]
    }
   ],
   "source": [
    "a = 22\n",
    "b = 33\n",
    "print (\"hi\") if a > b else print(\"hello\")"
   ]
  },
  {
   "cell_type": "code",
   "execution_count": 9,
   "metadata": {},
   "outputs": [
    {
     "name": "stdout",
     "output_type": "stream",
     "text": [
      "B\n"
     ]
    }
   ],
   "source": [
    "a = 33\n",
    "b = 330\n",
    "print(\"A\") if a > b else print(\"=\") if a == b else print(\"B\")"
   ]
  },
  {
   "cell_type": "markdown",
   "metadata": {},
   "source": [
    "Logical Operators"
   ]
  },
  {
   "cell_type": "markdown",
   "metadata": {},
   "source": [
    "**And**"
   ]
  },
  {
   "cell_type": "code",
   "execution_count": 10,
   "metadata": {},
   "outputs": [
    {
     "name": "stdout",
     "output_type": "stream",
     "text": [
      "true\n"
     ]
    }
   ],
   "source": [
    "a = 33\n",
    "b = 36\n",
    "c = 10\n",
    "d = 22\n",
    "\n",
    "if a < b and c < d:\n",
    "    print(\"true\")"
   ]
  },
  {
   "cell_type": "markdown",
   "metadata": {},
   "source": [
    "**Or**"
   ]
  },
  {
   "cell_type": "code",
   "execution_count": 12,
   "metadata": {},
   "outputs": [
    {
     "name": "stdout",
     "output_type": "stream",
     "text": [
      "conditionally true\n"
     ]
    }
   ],
   "source": [
    "a = 33\n",
    "b = 36\n",
    "c = 10\n",
    "d = 22\n",
    "\n",
    "if a < b or c > d:\n",
    "    print(\"conditionally true\")"
   ]
  },
  {
   "cell_type": "markdown",
   "metadata": {},
   "source": [
    "**Nested Ifs**"
   ]
  },
  {
   "cell_type": "code",
   "execution_count": 13,
   "metadata": {},
   "outputs": [
    {
     "name": "stdout",
     "output_type": "stream",
     "text": [
      "sucsess\n"
     ]
    }
   ],
   "source": [
    "a = 22\n",
    "b = 33\n",
    "c = 11\n",
    "d = 44\n",
    "if a < b :\n",
    "    if c < d :\n",
    "        print(\"sucsess\")"
   ]
  },
  {
   "cell_type": "markdown",
   "metadata": {},
   "source": [
    "PASS Statement"
   ]
  },
  {
   "cell_type": "code",
   "execution_count": 14,
   "metadata": {},
   "outputs": [],
   "source": [
    "# if cannot be empty but sıme reason you have an if with no content, you can use pass."
   ]
  },
  {
   "cell_type": "code",
   "execution_count": 15,
   "metadata": {},
   "outputs": [],
   "source": [
    "a = 33\n",
    "b = 22\n",
    "if a > b :\n",
    "    pass"
   ]
  },
  {
   "cell_type": "markdown",
   "metadata": {},
   "source": [
    " **While Loops**"
   ]
  },
  {
   "cell_type": "code",
   "execution_count": 16,
   "metadata": {},
   "outputs": [
    {
     "name": "stdout",
     "output_type": "stream",
     "text": [
      "10\n",
      "11\n",
      "12\n",
      "13\n",
      "14\n"
     ]
    }
   ],
   "source": [
    "i = 10\n",
    "while i < 15:\n",
    "    print(i)\n",
    "    i += 1"
   ]
  },
  {
   "cell_type": "code",
   "execution_count": 17,
   "metadata": {},
   "outputs": [
    {
     "name": "stdout",
     "output_type": "stream",
     "text": [
      "10\n",
      "11\n",
      "12\n",
      "13\n"
     ]
    }
   ],
   "source": [
    "# With the break statement we can stop the loop even if the while condition is true:\n",
    "\n",
    "i = 10\n",
    "while i < 15:\n",
    "    print(i)\n",
    "    if i == 13:\n",
    "        break\n",
    "    i += 1"
   ]
  },
  {
   "cell_type": "code",
   "execution_count": 18,
   "metadata": {},
   "outputs": [
    {
     "name": "stdout",
     "output_type": "stream",
     "text": [
      "1\n",
      "2\n",
      "4\n",
      "5\n",
      "6\n"
     ]
    }
   ],
   "source": [
    "i = 0\n",
    "while i < 6:\n",
    "  i += 1\n",
    "  if i == 3:\n",
    "    continue\n",
    "  print(i)"
   ]
  },
  {
   "cell_type": "code",
   "execution_count": 19,
   "metadata": {},
   "outputs": [
    {
     "name": "stdout",
     "output_type": "stream",
     "text": [
      "20\n",
      "19\n",
      "18\n",
      "17\n",
      "16\n",
      "15\n",
      "14\n",
      "13\n",
      "12\n",
      "11\n",
      "i is no longer greater than 10\n"
     ]
    }
   ],
   "source": [
    "i = 20\n",
    "\n",
    "while i > 10 :\n",
    "    print(i)\n",
    "    i -= 1\n",
    "else:\n",
    "    print(\"i is no longer greater than 10\")"
   ]
  },
  {
   "cell_type": "markdown",
   "metadata": {},
   "source": [
    "**For Loops**"
   ]
  },
  {
   "cell_type": "code",
   "execution_count": 20,
   "metadata": {},
   "outputs": [
    {
     "name": "stdout",
     "output_type": "stream",
     "text": [
      "semih\n",
      "ufuk\n",
      "guler\n"
     ]
    }
   ],
   "source": [
    "myself = [\"semih\", \"ufuk\", \"guler\"]\n",
    "for x in myself:\n",
    "    print(x)"
   ]
  },
  {
   "cell_type": "markdown",
   "metadata": {},
   "source": [
    "Looping Through a String\n",
    "Even strings are iterable objects, they contain a sequence of characters:\n",
    "\n"
   ]
  },
  {
   "cell_type": "code",
   "execution_count": 22,
   "metadata": {
    "scrolled": false
   },
   "outputs": [
    {
     "name": "stdout",
     "output_type": "stream",
     "text": [
      "s\n",
      "u\n",
      "f\n",
      "u\n",
      "k\n"
     ]
    }
   ],
   "source": [
    "for x in \"sufuk\":\n",
    "  print(x)"
   ]
  },
  {
   "cell_type": "markdown",
   "metadata": {},
   "source": [
    "The break Statement\n",
    "With the break statement we can stop the loop before it has looped through all the items:"
   ]
  },
  {
   "cell_type": "code",
   "execution_count": 23,
   "metadata": {},
   "outputs": [
    {
     "name": "stdout",
     "output_type": "stream",
     "text": [
      "semih\n",
      "ufuk\n",
      "guler\n",
      "adil\n"
     ]
    }
   ],
   "source": [
    "people = [\"semih\", \"ufuk\", \"guler\", \"adil\", \"eren\", \"ozgen\"]\n",
    "for x in people:\n",
    "  print(x)\n",
    "  if x == \"adil\":\n",
    "    break"
   ]
  },
  {
   "cell_type": "markdown",
   "metadata": {},
   "source": [
    "With the continue statement we can stop the current iteration of the loop, and continue with the next:\n",
    "\n"
   ]
  },
  {
   "cell_type": "code",
   "execution_count": 25,
   "metadata": {},
   "outputs": [
    {
     "name": "stdout",
     "output_type": "stream",
     "text": [
      "semih\n",
      "ufuk\n",
      "guler\n",
      "eren\n",
      "ozgen\n"
     ]
    }
   ],
   "source": [
    "people = [\"semih\", \"ufuk\", \"guler\", \"adil\", \"eren\", \"ozgen\"]\n",
    "for x in people:\n",
    "  if x == \"adil\":\n",
    "    continue\n",
    "  print(x)\n",
    "  "
   ]
  },
  {
   "cell_type": "markdown",
   "metadata": {},
   "source": [
    "The range() Function\n",
    "To loop through a set of code a specified number of times, we can use the range() function,\n",
    "The range() function returns a sequence of numbers, starting from 0 by default, and increments by 1 (by default), and ends at a specified number.\n",
    "The range() function defaults to increment the sequence by 1, however it is possible to specify the increment value by adding a third parameter: range(2, 30, 3):"
   ]
  },
  {
   "cell_type": "code",
   "execution_count": 29,
   "metadata": {},
   "outputs": [
    {
     "name": "stdout",
     "output_type": "stream",
     "text": [
      "2\n",
      "5\n",
      "8\n",
      "11\n",
      "14\n",
      "17\n"
     ]
    }
   ],
   "source": [
    "for x in range(2, 20, 3):\n",
    "  print(x)"
   ]
  },
  {
   "cell_type": "code",
   "execution_count": 40,
   "metadata": {},
   "outputs": [
    {
     "name": "stdout",
     "output_type": "stream",
     "text": [
      "20 seconds to wake up\n",
      "19 seconds to wake up\n",
      "18 seconds to wake up\n",
      "17 seconds to wake up\n",
      "16 seconds to wake up\n",
      "15 seconds to wake up\n",
      "14 seconds to wake up\n",
      "13 seconds to wake up\n",
      "12 seconds to wake up\n",
      "11 seconds to wake up\n",
      "10 seconds to wake up\n",
      "9 seconds to wake up\n",
      "8 seconds to wake up\n",
      "7 seconds to wake up\n",
      "6 seconds to wake up\n",
      "5 seconds to wake up\n",
      "4 seconds to wake up\n",
      "3 seconds to wake up\n",
      "2 seconds to wake up\n",
      "1 seconds to wake up\n",
      "Finally Awake\n"
     ]
    }
   ],
   "source": [
    "for x in range(20, 0, -1):\n",
    "    z = \"{} seconds to wake up\"\n",
    "    print(z.format(x))\n",
    "    x -= 1\n",
    "else:\n",
    "    print(\"Finally Awake\")"
   ]
  },
  {
   "cell_type": "code",
   "execution_count": 43,
   "metadata": {},
   "outputs": [
    {
     "name": "stdout",
     "output_type": "stream",
     "text": [
      "Dr Sufuk\n",
      "Dr Cigdem\n",
      "Dr Erdem\n",
      "Prof Sufuk\n",
      "Prof Cigdem\n",
      "Prof Erdem\n",
      "Engineer Sufuk\n",
      "Engineer Cigdem\n",
      "Engineer Erdem\n"
     ]
    }
   ],
   "source": [
    "title = [\"Dr\", \"Prof\", \"Engineer\"]\n",
    "name = [\"Sufuk\", \"Cigdem\", \"Erdem\"]\n",
    "\n",
    "for x in title:\n",
    "  for y in name:\n",
    "    print(x, y)"
   ]
  },
  {
   "cell_type": "markdown",
   "metadata": {},
   "source": [
    "##### Functions"
   ]
  },
  {
   "cell_type": "code",
   "execution_count": 47,
   "metadata": {},
   "outputs": [
    {
     "name": "stdout",
     "output_type": "stream",
     "text": [
      "Super Duper Mart\n"
     ]
    }
   ],
   "source": [
    "# In Python a function is defined using the def keyword:\n",
    "def my_function():\n",
    "    print(\"Super Duper Mart\")\n",
    "\n",
    "my_function()"
   ]
  },
  {
   "cell_type": "markdown",
   "metadata": {},
   "source": [
    "Arguments\n",
    "Information can be passed into functions as arguments.\n",
    "Arguments are specified after the function name, inside the parentheses. You can add as many arguments as you want, just separate them with a comma."
   ]
  },
  {
   "cell_type": "code",
   "execution_count": 49,
   "metadata": {},
   "outputs": [
    {
     "name": "stdout",
     "output_type": "stream",
     "text": [
      "Sufuk Guler\n",
      "Nil Guler\n",
      "Coskun Guler\n"
     ]
    }
   ],
   "source": [
    "def my_function(person_name):\n",
    "  print(person_name + \" Guler\")\n",
    "\n",
    "my_function(\"Sufuk\")\n",
    "my_function(\"Nil\")\n",
    "my_function(\"Coskun\")"
   ]
  },
  {
   "cell_type": "markdown",
   "metadata": {},
   "source": [
    "Arbitrary Arguments, *args\n",
    "If you do not know how many arguments that will be passed into your function, add a * before the parameter name in the function definition.\n",
    "\n",
    "This way the function will receive a tuple of arguments, and can access the items accordingly:"
   ]
  },
  {
   "cell_type": "code",
   "execution_count": 55,
   "metadata": {},
   "outputs": [
    {
     "name": "stdout",
     "output_type": "stream",
     "text": [
      "The 3 rd person is erdem\n"
     ]
    }
   ],
   "source": [
    "def my_function(*people):\n",
    "  print(\"The 3 rd person is \" + people[2])\n",
    "\n",
    "my_function(\"Eren\", \"sufuk\", \"erdem\")"
   ]
  },
  {
   "cell_type": "markdown",
   "metadata": {},
   "source": [
    "You can also send arguments with the key = value syntax.\n",
    "\n",
    "This way the order of the arguments does not matter."
   ]
  },
  {
   "cell_type": "code",
   "execution_count": 56,
   "metadata": {},
   "outputs": [
    {
     "name": "stdout",
     "output_type": "stream",
     "text": [
      "The third person is sufuk\n"
     ]
    }
   ],
   "source": [
    "def my_function(person0, person1, person2):\n",
    "  print(\"The third person is \" + person2)\n",
    "\n",
    "my_function(person2 = \"sufuk\", person0 = \"erdem\", person1 = \"eren\")\n"
   ]
  },
  {
   "cell_type": "markdown",
   "metadata": {},
   "source": [
    "Pyhton Lambda\n"
   ]
  },
  {
   "cell_type": "code",
   "execution_count": 1,
   "metadata": {},
   "outputs": [
    {
     "name": "stdout",
     "output_type": "stream",
     "text": [
      "15\n"
     ]
    }
   ],
   "source": [
    "x = lambda a : a + 10\n",
    "print(x(5))\n"
   ]
  },
  {
   "cell_type": "code",
   "execution_count": 4,
   "metadata": {},
   "outputs": [
    {
     "name": "stdout",
     "output_type": "stream",
     "text": [
      "22\n"
     ]
    }
   ],
   "source": [
    "def myfunc(n):\n",
    "  return lambda a : a * n\n",
    "\n",
    "mydoubler = myfunc(2)\n",
    "\n",
    "print(mydoubler(11))"
   ]
  },
  {
   "cell_type": "markdown",
   "metadata": {},
   "source": [
    "##### Python Arrays\n"
   ]
  },
  {
   "cell_type": "markdown",
   "metadata": {},
   "source": [
    "Note: Python does not have built-in support for Arrays, but Python Lists can be used instead.\n",
    "Note: This page shows you how to use LISTS as ARRAYS, however, to work with arrays in Python you will have to import a library, like the NumPy library.\n"
   ]
  },
  {
   "cell_type": "code",
   "execution_count": 11,
   "metadata": {},
   "outputs": [
    {
     "name": "stdout",
     "output_type": "stream",
     "text": [
      "cigdem\n",
      "3\n"
     ]
    }
   ],
   "source": [
    "lovers = [\"cigdem\", \"sufuk\", \"dogan\"]\n",
    "print(lovers[0])\n",
    "print(len(lovers))"
   ]
  },
  {
   "cell_type": "code",
   "execution_count": 12,
   "metadata": {},
   "outputs": [
    {
     "name": "stdout",
     "output_type": "stream",
     "text": [
      "guler\n"
     ]
    }
   ],
   "source": [
    "#You can use the append() method to add an element to an array.\n",
    "lovers = [\"cigdem\", \"sufuk\", \"dogan\"]\n",
    "lovers.append(\"guler\")\n",
    "print(lovers[3])\n"
   ]
  },
  {
   "cell_type": "markdown",
   "metadata": {},
   "source": [
    "##### Python Classes/Objects"
   ]
  },
  {
   "cell_type": "code",
   "execution_count": 10,
   "metadata": {},
   "outputs": [
    {
     "name": "stdout",
     "output_type": "stream",
     "text": [
      "4\n"
     ]
    }
   ],
   "source": [
    "class MyClass:\n",
    "    x=4\n",
    "p1 = MyClass()\n",
    "print(p1.x)"
   ]
  },
  {
   "cell_type": "code",
   "execution_count": 16,
   "metadata": {},
   "outputs": [
    {
     "name": "stdout",
     "output_type": "stream",
     "text": [
      "Hello my name is Sufuk\n",
      "I am 20 years old\n",
      "Hello my name is Cigdem\n",
      "I am 19 years old\n"
     ]
    }
   ],
   "source": [
    "class Person:\n",
    "  def __init__(self, name, age, gender):\n",
    "    self.name = name\n",
    "    self.age = age\n",
    "    self.gender = gender\n",
    "  def myfunc(self):\n",
    "    print(\"Hello my name is \" + self.name)\n",
    "    print((\"I am {} years old\").format(self.age))\n",
    "\n",
    "p1 = Person(\"Sufuk\", 20 , \"male\")\n",
    "p1.myfunc()\n",
    "p2 = Person(\"Cigdem\", 19, \"female\")\n",
    "p2.myfunc()"
   ]
  },
  {
   "cell_type": "code",
   "execution_count": 22,
   "metadata": {},
   "outputs": [
    {
     "name": "stdout",
     "output_type": "stream",
     "text": [
      "19\n"
     ]
    },
    {
     "ename": "AttributeError",
     "evalue": "'Person' object has no attribute 'age'",
     "output_type": "error",
     "traceback": [
      "\u001b[1;31m---------------------------------------------------------------------------\u001b[0m",
      "\u001b[1;31mAttributeError\u001b[0m                            Traceback (most recent call last)",
      "\u001b[1;32m<ipython-input-22-e0e4eda7e14f>\u001b[0m in \u001b[0;36m<module>\u001b[1;34m\u001b[0m\n\u001b[0;32m      7\u001b[0m \u001b[0mprint\u001b[0m\u001b[1;33m(\u001b[0m\u001b[0mp1\u001b[0m\u001b[1;33m.\u001b[0m\u001b[0mage\u001b[0m\u001b[1;33m)\u001b[0m\u001b[1;33m\u001b[0m\u001b[1;33m\u001b[0m\u001b[0m\n\u001b[0;32m      8\u001b[0m \u001b[1;32mdel\u001b[0m \u001b[0mp1\u001b[0m\u001b[1;33m.\u001b[0m\u001b[0mage\u001b[0m\u001b[1;33m\u001b[0m\u001b[1;33m\u001b[0m\u001b[0m\n\u001b[1;32m----> 9\u001b[1;33m \u001b[0mprint\u001b[0m\u001b[1;33m(\u001b[0m\u001b[0mp1\u001b[0m\u001b[1;33m.\u001b[0m\u001b[0mage\u001b[0m\u001b[1;33m)\u001b[0m\u001b[1;33m\u001b[0m\u001b[1;33m\u001b[0m\u001b[0m\n\u001b[0m",
      "\u001b[1;31mAttributeError\u001b[0m: 'Person' object has no attribute 'age'"
     ]
    }
   ],
   "source": [
    "class Person:\n",
    "  def __init__(self, name, age, gender):\n",
    "    self.name = name\n",
    "    self.age = age\n",
    "    self.gender = gender\n",
    "p1 = Person(\"Cigdem\", 19, \"female\")\n",
    "print(p1.age)\n",
    "del p1.age\n",
    "print(p1.age)"
   ]
  },
  {
   "cell_type": "markdown",
   "metadata": {},
   "source": [
    "As you can see after deleteing property of p1 it gives an error"
   ]
  },
  {
   "cell_type": "code",
   "execution_count": 23,
   "metadata": {},
   "outputs": [
    {
     "name": "stdout",
     "output_type": "stream",
     "text": [
      "19\n"
     ]
    },
    {
     "ename": "NameError",
     "evalue": "name 'p1' is not defined",
     "output_type": "error",
     "traceback": [
      "\u001b[1;31m---------------------------------------------------------------------------\u001b[0m",
      "\u001b[1;31mNameError\u001b[0m                                 Traceback (most recent call last)",
      "\u001b[1;32m<ipython-input-23-6c599c0ad169>\u001b[0m in \u001b[0;36m<module>\u001b[1;34m\u001b[0m\n\u001b[0;32m      7\u001b[0m \u001b[0mprint\u001b[0m\u001b[1;33m(\u001b[0m\u001b[0mp1\u001b[0m\u001b[1;33m.\u001b[0m\u001b[0mage\u001b[0m\u001b[1;33m)\u001b[0m\u001b[1;33m\u001b[0m\u001b[1;33m\u001b[0m\u001b[0m\n\u001b[0;32m      8\u001b[0m \u001b[1;32mdel\u001b[0m \u001b[0mp1\u001b[0m\u001b[1;33m\u001b[0m\u001b[1;33m\u001b[0m\u001b[0m\n\u001b[1;32m----> 9\u001b[1;33m \u001b[0mprint\u001b[0m\u001b[1;33m(\u001b[0m\u001b[0mp1\u001b[0m\u001b[1;33m.\u001b[0m\u001b[0mage\u001b[0m\u001b[1;33m)\u001b[0m\u001b[1;33m\u001b[0m\u001b[1;33m\u001b[0m\u001b[0m\n\u001b[0m",
      "\u001b[1;31mNameError\u001b[0m: name 'p1' is not defined"
     ]
    }
   ],
   "source": [
    "class Person:\n",
    "  def __init__(self, name, age, gender):\n",
    "    self.name = name\n",
    "    self.age = age\n",
    "    self.gender = gender\n",
    "p1 = Person(\"Cigdem\", 19, \"female\")\n",
    "print(p1.age)\n",
    "del p1\n",
    "print(p1.age)"
   ]
  },
  {
   "cell_type": "markdown",
   "metadata": {},
   "source": [
    "same appiled if you delete object entierly"
   ]
  },
  {
   "cell_type": "markdown",
   "metadata": {},
   "source": [
    "class definitions cannot be empty, but if you for some reason have a class definition with no content, put in the pass statement to avoid getting an error"
   ]
  },
  {
   "cell_type": "code",
   "execution_count": 24,
   "metadata": {},
   "outputs": [],
   "source": [
    "class Person:\n",
    "  pass"
   ]
  },
  {
   "cell_type": "markdown",
   "metadata": {},
   "source": [
    "###### Python Inheritance\n",
    "\n",
    "Inheritance allows us to define a class that inherits all the methods and properties from another class.\n",
    "\n",
    "Parent class is the class being inherited from, also called base class.\n",
    "\n",
    "Child class is the class that inherits from another class, also called derived class.\n",
    "\n"
   ]
  },
  {
   "cell_type": "markdown",
   "metadata": {},
   "source": [
    "Any class can be a parent class, so the syntax is the same as creating any other class:"
   ]
  },
  {
   "cell_type": "code",
   "execution_count": 25,
   "metadata": {},
   "outputs": [
    {
     "name": "stdout",
     "output_type": "stream",
     "text": [
      "Hello my name is Cigdem\n",
      "I am 19 years old\n"
     ]
    }
   ],
   "source": [
    "class Person:\n",
    "  def __init__(self, name, age, gender):\n",
    "    self.name = name\n",
    "    self.age = age\n",
    "    self.gender = gender\n",
    "  def myfunc(self):\n",
    "    print(\"Hello my name is \" + self.name)\n",
    "    print((\"I am {} years old\").format(self.age))\n",
    "p2 = Person(\"Cigdem\", 19, \"female\")\n",
    "p2.myfunc()"
   ]
  },
  {
   "cell_type": "markdown",
   "metadata": {},
   "source": [
    "##### Create a Child Class\n"
   ]
  },
  {
   "cell_type": "markdown",
   "metadata": {},
   "source": [
    "To create a class that inherits the functionality from another class, send the parent class as a parameter when creating the child class:\n"
   ]
  },
  {
   "cell_type": "code",
   "execution_count": 36,
   "metadata": {},
   "outputs": [
    {
     "name": "stdout",
     "output_type": "stream",
     "text": [
      "Hello my name is cigdem\n",
      "I am 19 years old\n",
      "My student id is 200116774 \n"
     ]
    }
   ],
   "source": [
    "class Person:\n",
    "  def __init__(self, name, age, gender):\n",
    "    self.name = name\n",
    "    self.age = age\n",
    "    self.gender = gender\n",
    "  def myfunc(self):\n",
    "    print(\"Hello my name is \" + self.name)\n",
    "    print((\"I am {} years old\").format(self.age))\n",
    "    \n",
    "class Student(Person):\n",
    "    def __init__(self, name, age, gender, idno):\n",
    "        Person.__init__(self, name, age, gender)\n",
    "        self.idno = idno\n",
    "    def stufunc(self):\n",
    "        print((\"My student id is {} \").format(self.idno))\n",
    "p1 = Student(\"cigdem\", 19, \"female\", 200116774)\n",
    "p1.myfunc()\n",
    "p1.stufunc()"
   ]
  },
  {
   "cell_type": "markdown",
   "metadata": {},
   "source": [
    "Python also has a super() function that will make the child class inherit all the methods and properties from its parent"
   ]
  },
  {
   "cell_type": "code",
   "execution_count": 44,
   "metadata": {},
   "outputs": [
    {
     "name": "stdout",
     "output_type": "stream",
     "text": [
      "Hello my name is cigdem\n",
      "I am 19 years old\n",
      "My student id is 200116774 \n"
     ]
    }
   ],
   "source": [
    "class Person:\n",
    "  def __init__(self, name, age, gender):\n",
    "    self.name = name\n",
    "    self.age = age\n",
    "    self.gender = gender\n",
    "  def myfunc(self):\n",
    "    print(\"Hello my name is \" + self.name)\n",
    "    print((\"I am {} years old\").format(self.age))\n",
    "    \n",
    "class Student(Person):\n",
    "  def __init__(self, name, age, gender, idno):\n",
    "    super().__init__(name, age, gender)\n",
    "    self.idno = idno      \n",
    "  def stufunc(self):\n",
    "    print((\"My student id is {} \").format(self.idno))      \n",
    "\n",
    "p1 = Student(\"cigdem\", 19, \"female\", 200116774)\n",
    "p1.myfunc()\n",
    "p1.stufunc()\n"
   ]
  },
  {
   "cell_type": "code",
   "execution_count": null,
   "metadata": {},
   "outputs": [],
   "source": []
  }
 ],
 "metadata": {
  "kernelspec": {
   "display_name": "Python 3",
   "language": "python",
   "name": "python3"
  },
  "language_info": {
   "codemirror_mode": {
    "name": "ipython",
    "version": 3
   },
   "file_extension": ".py",
   "mimetype": "text/x-python",
   "name": "python",
   "nbconvert_exporter": "python",
   "pygments_lexer": "ipython3",
   "version": "3.8.3"
  }
 },
 "nbformat": 4,
 "nbformat_minor": 4
}
