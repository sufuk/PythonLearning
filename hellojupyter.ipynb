{
 "cells": [
  {
   "cell_type": "markdown",
   "metadata": {},
   "source": [
    "# WAY OF THE PYTHON"
   ]
  },
  {
   "cell_type": "markdown",
   "metadata": {},
   "source": [
    "_Welcom to My first Jupyter Notebook!!\n",
    "I will use this notebook as a learnig area so if you see\n",
    "any crappy code you shitweasels can teach me or just learn \n",
    "to deal with it:)_"
   ]
  },
  {
   "cell_type": "markdown",
   "metadata": {},
   "source": [
    "## Chapter 1: Getting Started"
   ]
  },
  {
   "cell_type": "markdown",
   "metadata": {},
   "source": [
    "`print()` _prints the object in the standard output device_"
   ]
  },
  {
   "cell_type": "code",
   "execution_count": 1,
   "metadata": {},
   "outputs": [
    {
     "name": "stdout",
     "output_type": "stream",
     "text": [
      "Hello World\n"
     ]
    }
   ],
   "source": [
    "print(\"Hello World\")"
   ]
  },
  {
   "cell_type": "markdown",
   "metadata": {},
   "source": [
    "##### IMPORTANCE OF INDENTATION!!!"
   ]
  },
  {
   "cell_type": "code",
   "execution_count": 2,
   "metadata": {},
   "outputs": [
    {
     "name": "stdout",
     "output_type": "stream",
     "text": [
      "correct\n"
     ]
    }
   ],
   "source": [
    "if 3 > 1:\n",
    "    print(\"correct\")"
   ]
  },
  {
   "cell_type": "code",
   "execution_count": 7,
   "metadata": {},
   "outputs": [
    {
     "ename": "IndentationError",
     "evalue": "expected an indented block (<ipython-input-7-ecf1df837c45>, line 2)",
     "output_type": "error",
     "traceback": [
      "\u001b[1;36m  File \u001b[1;32m\"<ipython-input-7-ecf1df837c45>\"\u001b[1;36m, line \u001b[1;32m2\u001b[0m\n\u001b[1;33m    print(\"correct\")\u001b[0m\n\u001b[1;37m        ^\u001b[0m\n\u001b[1;31mIndentationError\u001b[0m\u001b[1;31m:\u001b[0m expected an indented block\n"
     ]
    }
   ],
   "source": [
    "if 3 > 1:\n",
    "print(\"correct\")"
   ]
  },
  {
   "cell_type": "markdown",
   "metadata": {},
   "source": [
    "_As you can see above indentation is very important in python.._"
   ]
  },
  {
   "cell_type": "code",
   "execution_count": 2,
   "metadata": {
    "scrolled": true
   },
   "outputs": [
    {
     "ename": "IndentationError",
     "evalue": "unexpected indent (<ipython-input-2-a527e833ce29>, line 3)",
     "output_type": "error",
     "traceback": [
      "\u001b[1;36m  File \u001b[1;32m\"<ipython-input-2-a527e833ce29>\"\u001b[1;36m, line \u001b[1;32m3\u001b[0m\n\u001b[1;33m    print(\"vex\")\u001b[0m\n\u001b[1;37m    ^\u001b[0m\n\u001b[1;31mIndentationError\u001b[0m\u001b[1;31m:\u001b[0m unexpected indent\n"
     ]
    }
   ],
   "source": [
    "if 3 > 1:\n",
    "    print(\"astrid\")\n",
    "        print(\"vex\")"
   ]
  },
  {
   "cell_type": "markdown",
   "metadata": {},
   "source": [
    "**You must use at least one space !!\n",
    "All arguments must have same number of spaces at one code block**"
   ]
  },
  {
   "cell_type": "markdown",
   "metadata": {},
   "source": [
    "##### COMMENTS"
   ]
  },
  {
   "cell_type": "markdown",
   "metadata": {},
   "source": [
    "_You can use # and \"\"\" operators for commenting.\n",
    "Comments is the important part of programming do \n",
    "not hesitate add comments to your code ı am not gonna use\n",
    "so much in this notebook beacuse it is a  notebook\n",
    "not a project._"
   ]
  },
  {
   "cell_type": "code",
   "execution_count": 6,
   "metadata": {
    "scrolled": true
   },
   "outputs": [
    {
     "name": "stdout",
     "output_type": "stream",
     "text": [
      "Sufuk is the best\n"
     ]
    }
   ],
   "source": [
    "\"\"\"\n",
    "This is a comment\n",
    "\"\"\"\n",
    "#This is a comment to \n",
    "print(\"Sufuk is the best\")"
   ]
  },
  {
   "cell_type": "markdown",
   "metadata": {},
   "source": [
    "_As you can see comments do not effect the program._"
   ]
  },
  {
   "cell_type": "markdown",
   "metadata": {},
   "source": [
    "### Python Variables"
   ]
  },
  {
   "cell_type": "markdown",
   "metadata": {},
   "source": [
    "In python variables created when you assign a value to it:"
   ]
  },
  {
   "cell_type": "code",
   "execution_count": 12,
   "metadata": {},
   "outputs": [
    {
     "name": "stdout",
     "output_type": "stream",
     "text": [
      "22\n",
      "Sufuk\n"
     ]
    }
   ],
   "source": [
    "x = 22\n",
    "y = \"Sufuk\"\n",
    "print(x)\n",
    "print(y)"
   ]
  },
  {
   "cell_type": "markdown",
   "metadata": {},
   "source": [
    "Python has no command for declaring a variable."
   ]
  },
  {
   "cell_type": "markdown",
   "metadata": {},
   "source": [
    "Also you can change the variable type by reassigging it:"
   ]
  },
  {
   "cell_type": "code",
   "execution_count": 14,
   "metadata": {},
   "outputs": [
    {
     "name": "stdout",
     "output_type": "stream",
     "text": [
      "32\n",
      "izmit\n"
     ]
    }
   ],
   "source": [
    "x = 32\n",
    "print(x)\n",
    "x = 'izmit'\n",
    "print(x)"
   ]
  },
  {
   "cell_type": "markdown",
   "metadata": {},
   "source": [
    "_Note_"
   ]
  },
  {
   "cell_type": "markdown",
   "metadata": {},
   "source": [
    "A variable name cannot start with number"
   ]
  },
  {
   "cell_type": "markdown",
   "metadata": {},
   "source": [
    "**Examples of Variables**"
   ]
  },
  {
   "cell_type": "code",
   "execution_count": 16,
   "metadata": {},
   "outputs": [
    {
     "name": "stdout",
     "output_type": "stream",
     "text": [
      "ali\n",
      "catch\n",
      "the\n",
      "ball\n"
     ]
    }
   ],
   "source": [
    "x, y, z, t = \"ali\", \"catch\", \"the\", \"ball\" \n",
    "print(x)\n",
    "print(y)\n",
    "print(z)\n",
    "print(t)"
   ]
  },
  {
   "cell_type": "markdown",
   "metadata": {},
   "source": [
    "**Output Variables**"
   ]
  },
  {
   "cell_type": "markdown",
   "metadata": {},
   "source": [
    "To combine a variable, Python uses the + character:"
   ]
  },
  {
   "cell_type": "code",
   "execution_count": 18,
   "metadata": {},
   "outputs": [
    {
     "name": "stdout",
     "output_type": "stream",
     "text": [
      "Forgive me My Love\n"
     ]
    }
   ],
   "source": [
    "x = 'My Love'\n",
    "print(\"Forgive me \" + x)"
   ]
  },
  {
   "cell_type": "code",
   "execution_count": 22,
   "metadata": {},
   "outputs": [
    {
     "name": "stdout",
     "output_type": "stream",
     "text": [
      "Pythonrules\n",
      "25\n"
     ]
    }
   ],
   "source": [
    "x = \"Python\" \n",
    "y = \"rules\"\n",
    "z = x + y \n",
    "print(z)\n",
    "a = 10\n",
    "b = 15\n",
    "c = a + b\n",
    "print(c)"
   ]
  },
  {
   "cell_type": "markdown",
   "metadata": {},
   "source": [
    "**Global Variables**"
   ]
  },
  {
   "cell_type": "markdown",
   "metadata": {},
   "source": [
    "If you create a function and create a variable inside that function that variable is called local variable.\n",
    "And cannot be used outside of that function\n",
    "But if you created a variable in main code that called global variable and canb e used in everywhere."
   ]
  },
  {
   "cell_type": "code",
   "execution_count": 24,
   "metadata": {},
   "outputs": [
    {
     "name": "stdout",
     "output_type": "stream",
     "text": [
      "Sufuk is the best \n"
     ]
    }
   ],
   "source": [
    "x = \" is the best \"\n",
    "\n",
    "def my_func():\n",
    "    print(\"Sufuk\" + x)\n",
    "    \n",
    "my_func()"
   ]
  },
  {
   "cell_type": "code",
   "execution_count": 27,
   "metadata": {},
   "outputs": [
    {
     "name": "stdout",
     "output_type": "stream",
     "text": [
      "Sufuk is the worst\n",
      " is the best \n"
     ]
    }
   ],
   "source": [
    "x = \" is the best \"\n",
    "\n",
    "def my_func():\n",
    "    x = \" is the worst\" \n",
    "    print(\"Sufuk\" + x)\n",
    "    \n",
    "my_func()\n",
    "print(x)"
   ]
  },
  {
   "cell_type": "markdown",
   "metadata": {},
   "source": [
    "But if you use global keyword before assiging a variable it is always global: "
   ]
  },
  {
   "cell_type": "code",
   "execution_count": 28,
   "metadata": {},
   "outputs": [
    {
     "name": "stdout",
     "output_type": "stream",
     "text": [
      "Sufuk is the worst\n",
      " is the worst\n"
     ]
    }
   ],
   "source": [
    "x = \" is the best \"\n",
    "\n",
    "def my_func():\n",
    "    global x\n",
    "    x = \" is the worst\" \n",
    "    print(\"Sufuk\" + x)\n",
    "    \n",
    "my_func()\n",
    "print(x)"
   ]
  },
  {
   "cell_type": "markdown",
   "metadata": {},
   "source": [
    "## Python Data Types"
   ]
  },
  {
   "cell_type": "markdown",
   "metadata": {},
   "source": [
    "Text Type:\tstr\n",
    "\n",
    "Numeric Types:\tint, float, complex\n",
    "\n",
    "Sequence Types:\tlist, tuple, range\n",
    "\n",
    "Mapping Type:\tdict\n",
    "\n",
    "Set Types:\tset, frozenset\n",
    "\n",
    "Boolean Type:\tbool\n",
    "\n",
    "Binary Types:\tbytes, bytearray, memoryview"
   ]
  },
  {
   "cell_type": "markdown",
   "metadata": {},
   "source": [
    "You can use the type() function to learn type of data."
   ]
  },
  {
   "cell_type": "code",
   "execution_count": 29,
   "metadata": {},
   "outputs": [
    {
     "name": "stdout",
     "output_type": "stream",
     "text": [
      "<class 'int'>\n",
      "<class 'str'>\n"
     ]
    }
   ],
   "source": [
    "x = 10\n",
    "print(type(x))\n",
    "y = \"Sufuk\"\n",
    "print(type(y))"
   ]
  },
  {
   "cell_type": "markdown",
   "metadata": {},
   "source": [
    "If you really want to specify to data Types you use following constructor functions.\n",
    "\n",
    "x = str(\"Hello World\")\tstr\t\n",
    "x = int(20)\tint\t\n",
    "x = float(20.5)\tfloat\t\n",
    "x = complex(1j)\tcomplex\t\n",
    "x = list((\"apple\", \"banana\", \"cherry\"))\tlist\t\n",
    "x = tuple((\"apple\", \"banana\", \"cherry\"))\ttuple\t\n",
    "x = range(6)\trange\t\n",
    "x = dict(name=\"John\", age=36)\tdict\t\n",
    "x = set((\"apple\", \"banana\", \"cherry\"))\tset\t\n",
    "x = frozenset((\"apple\", \"banana\", \"cherry\"))\tfrozenset\t\n",
    "x = bool(5)\tbool\t\n",
    "x = bytes(5)\tbytes\t\n",
    "x = bytearray(5)\tbytearray\t\n",
    "x = memoryview(bytes(5))\tmemoryview"
   ]
  },
  {
   "cell_type": "markdown",
   "metadata": {},
   "source": [
    "### Python Numbers"
   ]
  },
  {
   "cell_type": "markdown",
   "metadata": {},
   "source": [
    "Integer(int)"
   ]
  },
  {
   "cell_type": "code",
   "execution_count": 31,
   "metadata": {},
   "outputs": [
    {
     "name": "stdout",
     "output_type": "stream",
     "text": [
      "<class 'int'>\n",
      "<class 'int'>\n",
      "<class 'int'>\n"
     ]
    }
   ],
   "source": [
    "x = 1\n",
    "y = 49345135059539345\n",
    "z = -423423424\n",
    "\n",
    "print(type(x))\n",
    "print(type(y))\n",
    "print(type(z))"
   ]
  },
  {
   "cell_type": "markdown",
   "metadata": {},
   "source": [
    "Floating Point Number(float)"
   ]
  },
  {
   "cell_type": "code",
   "execution_count": 33,
   "metadata": {},
   "outputs": [
    {
     "name": "stdout",
     "output_type": "stream",
     "text": [
      "<class 'float'>\n",
      "<class 'float'>\n",
      "<class 'float'>\n",
      "<class 'float'>\n",
      "<class 'float'>\n",
      "<class 'float'>\n"
     ]
    }
   ],
   "source": [
    "x = 1.2\n",
    "y = 3.0\n",
    "z = -33.6\n",
    "t = 23e4\n",
    "k = 23E3\n",
    "l = -92.4e100\n",
    "print(type(x))\n",
    "print(type(y))\n",
    "print(type(z))\n",
    "print(type(t))\n",
    "print(type(k))\n",
    "print(type(l))"
   ]
  },
  {
   "cell_type": "markdown",
   "metadata": {},
   "source": [
    "Complex(complex)"
   ]
  },
  {
   "cell_type": "code",
   "execution_count": 35,
   "metadata": {},
   "outputs": [
    {
     "name": "stdout",
     "output_type": "stream",
     "text": [
      "<class 'complex'>\n",
      "<class 'complex'>\n",
      "<class 'complex'>\n"
     ]
    }
   ],
   "source": [
    "x = 2 + 3j\n",
    "y = 11j\n",
    "z = -5j\n",
    "\n",
    "print(type(x))\n",
    "print(type(y))\n",
    "print(type(z))"
   ]
  },
  {
   "cell_type": "markdown",
   "metadata": {},
   "source": [
    "Conversion Between Data Types"
   ]
  },
  {
   "cell_type": "code",
   "execution_count": 37,
   "metadata": {},
   "outputs": [
    {
     "name": "stdout",
     "output_type": "stream",
     "text": [
      "2\n",
      "<class 'int'>\n"
     ]
    }
   ],
   "source": [
    "x = 2.65\n",
    "\n",
    "a = int(x)\n",
    "\n",
    "print(a)\n",
    "print(type(a))"
   ]
  },
  {
   "cell_type": "code",
   "execution_count": 44,
   "metadata": {},
   "outputs": [
    {
     "name": "stdout",
     "output_type": "stream",
     "text": [
      "1 2 4\n"
     ]
    }
   ],
   "source": [
    "x = int(1)\n",
    "y = int(2.7)\n",
    "z = int(\"4\")\n",
    "print(x, y, z)"
   ]
  },
  {
   "cell_type": "markdown",
   "metadata": {},
   "source": [
    "### Random Number"
   ]
  },
  {
   "cell_type": "code",
   "execution_count": 43,
   "metadata": {},
   "outputs": [
    {
     "name": "stdout",
     "output_type": "stream",
     "text": [
      "7\n"
     ]
    }
   ],
   "source": [
    "#you must import the random module\n",
    "import random\n",
    "print(random.randrange(1, 10))"
   ]
  },
  {
   "cell_type": "markdown",
   "metadata": {},
   "source": [
    "### Strings"
   ]
  },
  {
   "cell_type": "code",
   "execution_count": 49,
   "metadata": {},
   "outputs": [
    {
     "name": "stdout",
     "output_type": "stream",
     "text": [
      "Hello\n",
      "Hello\n",
      "Hello\n",
      "Hello\n"
     ]
    }
   ],
   "source": [
    "print(\"Hello\")\n",
    "print('Hello')\n",
    "a = \"Hello\"\n",
    "b = 'Hello'\n",
    "print(a)\n",
    "print(b)"
   ]
  },
  {
   "cell_type": "markdown",
   "metadata": {},
   "source": [
    "Multiline Stirngs:"
   ]
  },
  {
   "cell_type": "code",
   "execution_count": 47,
   "metadata": {},
   "outputs": [
    {
     "name": "stdout",
     "output_type": "stream",
     "text": [
      "What is better\n",
      "to be born good or\n",
      "over come your evil nature \n",
      "through great effort ? \n"
     ]
    }
   ],
   "source": [
    "a = \"\"\"What is better\n",
    "to be born good or\n",
    "over come your evil nature \n",
    "through great effort ? \"\"\"\n",
    "print(a)"
   ]
  },
  {
   "cell_type": "markdown",
   "metadata": {},
   "source": [
    "Strings are arrays of chars in python like many other languages."
   ]
  },
  {
   "cell_type": "code",
   "execution_count": 51,
   "metadata": {},
   "outputs": [
    {
     "name": "stdout",
     "output_type": "stream",
     "text": [
      "f\n"
     ]
    }
   ],
   "source": [
    "a = \"Sufuk\"\n",
    "print(a[2])"
   ]
  },
  {
   "cell_type": "markdown",
   "metadata": {},
   "source": [
    "Slicing Strings:"
   ]
  },
  {
   "cell_type": "code",
   "execution_count": 55,
   "metadata": {},
   "outputs": [
    {
     "name": "stdout",
     "output_type": "stream",
     "text": [
      "guler\n"
     ]
    }
   ],
   "source": [
    "a = \"sufuk guler\"\n",
    "print(a[6:11])"
   ]
  },
  {
   "cell_type": "code",
   "execution_count": 62,
   "metadata": {},
   "outputs": [
    {
     "name": "stdout",
     "output_type": "stream",
     "text": [
      "ufu\n"
     ]
    }
   ],
   "source": [
    "b = \"sufuk\"\n",
    "print(b[-4:-1])"
   ]
  },
  {
   "cell_type": "markdown",
   "metadata": {},
   "source": [
    "String Length"
   ]
  },
  {
   "cell_type": "code",
   "execution_count": 63,
   "metadata": {},
   "outputs": [
    {
     "name": "stdout",
     "output_type": "stream",
     "text": [
      "5\n"
     ]
    }
   ],
   "source": [
    "a = \"sufuk\"\n",
    "print(len(a))"
   ]
  },
  {
   "cell_type": "markdown",
   "metadata": {},
   "source": [
    "Sting Funcions:\n"
   ]
  },
  {
   "cell_type": "code",
   "execution_count": 66,
   "metadata": {},
   "outputs": [
    {
     "name": "stdout",
     "output_type": "stream",
     "text": [
      "sufuk guler\n"
     ]
    }
   ],
   "source": [
    "#lower returns string in lower case\n",
    "a = \"Sufuk Guler\"\n",
    "print(a.lower())"
   ]
  },
  {
   "cell_type": "code",
   "execution_count": 67,
   "metadata": {},
   "outputs": [
    {
     "name": "stdout",
     "output_type": "stream",
     "text": [
      "SUFUK\n"
     ]
    }
   ],
   "source": [
    "#upper() does vice versa\n",
    "a = \"sUFUK\"\n",
    "print(a.upper())"
   ]
  },
  {
   "cell_type": "code",
   "execution_count": 68,
   "metadata": {},
   "outputs": [
    {
     "name": "stdout",
     "output_type": "stream",
     "text": [
      "Safak\n"
     ]
    }
   ],
   "source": [
    "# replace() replaces the string with given another\n",
    "a = \"Sufuk\"\n",
    "print(a.replace(\"u\", \"a\"))"
   ]
  },
  {
   "cell_type": "code",
   "execution_count": 70,
   "metadata": {},
   "outputs": [
    {
     "name": "stdout",
     "output_type": "stream",
     "text": [
      "['Sufuk', ' Guler']\n"
     ]
    }
   ],
   "source": [
    "a = \"Sufuk, Guler\"\n",
    "print(a.split(\",\")) # returns ['Sufuj', ' Guler']"
   ]
  },
  {
   "cell_type": "markdown",
   "metadata": {},
   "source": [
    "Check string: (in, not in)\n",
    "we can use to check given string is in another string."
   ]
  },
  {
   "cell_type": "code",
   "execution_count": 73,
   "metadata": {},
   "outputs": [
    {
     "name": "stdout",
     "output_type": "stream",
     "text": [
      "True\n"
     ]
    }
   ],
   "source": [
    "a = '''I have two number nine, \n",
    "a number nine large,\n",
    "a number six with extra dip\n",
    "two number forty five one with chesee,\n",
    "and a large soda '''\n",
    "x = \"soda\" in a\n",
    "print(x)"
   ]
  },
  {
   "cell_type": "code",
   "execution_count": 74,
   "metadata": {},
   "outputs": [
    {
     "name": "stdout",
     "output_type": "stream",
     "text": [
      "False\n"
     ]
    }
   ],
   "source": [
    "a = '''I have two number nine, \n",
    "a number nine large,\n",
    "a number six with extra dip\n",
    "two number forty five one with chesee,\n",
    "and a large soda '''\n",
    "x = \"soda\" not in a\n",
    "print(x)"
   ]
  },
  {
   "cell_type": "markdown",
   "metadata": {},
   "source": [
    "Concatenation and Format"
   ]
  },
  {
   "cell_type": "code",
   "execution_count": 75,
   "metadata": {},
   "outputs": [
    {
     "name": "stdout",
     "output_type": "stream",
     "text": [
      "helloworld\n"
     ]
    }
   ],
   "source": [
    "a = \"hello\"\n",
    "b = \"world\"\n",
    "c = a + b \n",
    "print(c)"
   ]
  },
  {
   "cell_type": "code",
   "execution_count": 76,
   "metadata": {},
   "outputs": [
    {
     "name": "stdout",
     "output_type": "stream",
     "text": [
      "hello world\n"
     ]
    }
   ],
   "source": [
    "# if you wanna add space between them add a \" \" space like that\n",
    "a = \"hello\"\n",
    "b = \"world\"\n",
    "c = a + \" \" + b \n",
    "print(c)"
   ]
  },
  {
   "cell_type": "code",
   "execution_count": 78,
   "metadata": {},
   "outputs": [],
   "source": [
    "#you know we cant combine strings and other data types directly\n",
    "#but there is a way for that call format() method"
   ]
  },
  {
   "cell_type": "markdown",
   "metadata": {},
   "source": [
    "The format() method takes the passed arguments, formats them, and places them in the string where the placeholders {} are:\n"
   ]
  },
  {
   "cell_type": "code",
   "execution_count": 79,
   "metadata": {},
   "outputs": [
    {
     "name": "stdout",
     "output_type": "stream",
     "text": [
      "My name is Sufuk, and I am 20 years old\n"
     ]
    }
   ],
   "source": [
    "x = 20\n",
    "y = \"My name is Sufuk, and I am {} years old\"\n",
    "print(y.format(x))"
   ]
  },
  {
   "cell_type": "code",
   "execution_count": 81,
   "metadata": {},
   "outputs": [
    {
     "name": "stdout",
     "output_type": "stream",
     "text": [
      "I am 20 years old, my pa 57, years old, and my ma 50 years old\n"
     ]
    }
   ],
   "source": [
    "age1 = 57\n",
    "age2 = 50\n",
    "age3 = 20\n",
    "mystring = \"I am {} years old, my pa {}, years old, and my ma {} years old\"\n",
    "print(mystring.format(age3, age1, age2))"
   ]
  },
  {
   "cell_type": "code",
   "execution_count": 82,
   "metadata": {},
   "outputs": [
    {
     "name": "stdout",
     "output_type": "stream",
     "text": [
      "Least positivei integer is 1 , and least prime number is 2 \n"
     ]
    }
   ],
   "source": [
    "number1 = 1\n",
    "number2 = 2\n",
    "mystring = \"Least positivei integer is {1} , and least prime number is {0} \"\n",
    "print(mystring.format(number2, number1))"
   ]
  },
  {
   "cell_type": "markdown",
   "metadata": {},
   "source": [
    "#### Escape Characters"
   ]
  },
  {
   "cell_type": "raw",
   "metadata": {},
   "source": [
    "\\'\tSingle Quote\t\n",
    "\\\\\tBackslash\t\n",
    "\\n\tNew Line\t\n",
    "\\r\tCarriage Return\t\n",
    "\\t\tTab\t\n",
    "\\b\tBackspace\t\n",
    "\\f\tForm Feed\t\n",
    "\\ooo\tOctal value\t\n",
    "\\xhh\tHex value"
   ]
  },
  {
   "cell_type": "markdown",
   "metadata": {},
   "source": [
    "For example if you use \" or ' in your string youll get an error: like this:\n"
   ]
  },
  {
   "cell_type": "code",
   "execution_count": 91,
   "metadata": {},
   "outputs": [
    {
     "ename": "SyntaxError",
     "evalue": "invalid syntax (<ipython-input-91-73c8df7d0847>, line 1)",
     "output_type": "error",
     "traceback": [
      "\u001b[1;36m  File \u001b[1;32m\"<ipython-input-91-73c8df7d0847>\"\u001b[1;36m, line \u001b[1;32m1\u001b[0m\n\u001b[1;33m    a = \"We are the sons and daughters of \"skyrim\" \"\u001b[0m\n\u001b[1;37m                                                ^\u001b[0m\n\u001b[1;31mSyntaxError\u001b[0m\u001b[1;31m:\u001b[0m invalid syntax\n"
     ]
    }
   ],
   "source": [
    "a = \"We are the sons and daughters of \"skyrim\" \"\n",
    "print(a)\n"
   ]
  },
  {
   "cell_type": "markdown",
   "metadata": {},
   "source": [
    "To prevent this kind of errors we use escape characters:"
   ]
  },
  {
   "cell_type": "code",
   "execution_count": 92,
   "metadata": {},
   "outputs": [
    {
     "name": "stdout",
     "output_type": "stream",
     "text": [
      "We are the sons and daughters of \"skyrim\" \n"
     ]
    }
   ],
   "source": [
    "a = \"We are the sons and daughters of \\\"skyrim\\\" \"\n",
    "print(a)\n"
   ]
  },
  {
   "cell_type": "markdown",
   "metadata": {},
   "source": [
    "Other Methods for Strings:"
   ]
  },
  {
   "cell_type": "code",
   "execution_count": 94,
   "metadata": {},
   "outputs": [
    {
     "name": "stdout",
     "output_type": "stream",
     "text": [
      "Sufuk\n"
     ]
    }
   ],
   "source": [
    "#capitalize()\tConverts the first character to upper case\n",
    "a = \"sufuk\"\n",
    "print(a.capitalize())"
   ]
  },
  {
   "cell_type": "code",
   "execution_count": 99,
   "metadata": {},
   "outputs": [
    {
     "name": "stdout",
     "output_type": "stream",
     "text": [
      "sufuk guler\n"
     ]
    }
   ],
   "source": [
    "# casefold()\tConverts string into lower case\n",
    "a = \"SuFuK GuLeR\"\n",
    "print(a.casefold())"
   ]
  },
  {
   "cell_type": "code",
   "execution_count": 103,
   "metadata": {},
   "outputs": [
    {
     "name": "stdout",
     "output_type": "stream",
     "text": [
      "                                            Sufuk Guler                                             \n"
     ]
    }
   ],
   "source": [
    "# center()\tReturns a centered string\n",
    "a = \"Sufuk Guler\"\n",
    "print(a.center(100))"
   ]
  },
  {
   "cell_type": "code",
   "execution_count": 104,
   "metadata": {},
   "outputs": [
    {
     "name": "stdout",
     "output_type": "stream",
     "text": [
      "4\n"
     ]
    }
   ],
   "source": [
    "# count()\tReturns the number of times a specified value occurs in a string\n",
    "a = '''I have two number nine, \n",
    "a number nine large,\n",
    "a number six with extra dip\n",
    "two number forty five one with chesee,\n",
    "and a large soda '''\n",
    "print(a.count(\"number\"))"
   ]
  },
  {
   "cell_type": "code",
   "execution_count": 105,
   "metadata": {},
   "outputs": [
    {
     "name": "stdout",
     "output_type": "stream",
     "text": [
      "b'My name is St\\xc3\\xa5le'\n"
     ]
    }
   ],
   "source": [
    "# encode()\tReturns an encoded version of the string\n",
    "txt = \"My name is Ståle\"\n",
    "\n",
    "x = txt.encode()\n",
    "\n",
    "print(x)"
   ]
  },
  {
   "cell_type": "code",
   "execution_count": 107,
   "metadata": {},
   "outputs": [
    {
     "name": "stdout",
     "output_type": "stream",
     "text": [
      "True\n"
     ]
    }
   ],
   "source": [
    "# endswith()\tReturns true if the string ends with the specified value\n",
    "a = \"sufuk\"\n",
    "print(a.endswith(\"k\"))"
   ]
  },
  {
   "cell_type": "code",
   "execution_count": 109,
   "metadata": {},
   "outputs": [
    {
     "name": "stdout",
     "output_type": "stream",
     "text": [
      "s   u   f   u   k\n"
     ]
    }
   ],
   "source": [
    "# expandtabs()\tSets the tab size of the string\n",
    "a = \"s\\tu\\tf\\tu\\tk\"\n",
    "\n",
    "x =  a.expandtabs(4)\n",
    "\n",
    "print(x)\n"
   ]
  },
  {
   "cell_type": "code",
   "execution_count": 110,
   "metadata": {},
   "outputs": [
    {
     "name": "stdout",
     "output_type": "stream",
     "text": [
      "1\n"
     ]
    }
   ],
   "source": [
    "# find()\tSearches the string for a specified value and returns the position of where it was found\n",
    "\n",
    "a = \"12345678\"\n",
    "print(a.find(\"2\"))"
   ]
  },
  {
   "cell_type": "code",
   "execution_count": 111,
   "metadata": {},
   "outputs": [
    {
     "name": "stdout",
     "output_type": "stream",
     "text": [
      "3\n"
     ]
    }
   ],
   "source": [
    "# index()\tSearches the string for a specified value and returns the position of where it was found\n",
    "a = \"012345678\"\n",
    "print(a.index(\"3\"))"
   ]
  },
  {
   "cell_type": "markdown",
   "metadata": {},
   "source": [
    "Difference between find and index is str.find returns -1 when it does not find the substring.\n",
    "While str.index raises ValueError:"
   ]
  },
  {
   "cell_type": "code",
   "execution_count": 112,
   "metadata": {},
   "outputs": [
    {
     "name": "stdout",
     "output_type": "stream",
     "text": [
      "-1\n"
     ]
    }
   ],
   "source": [
    "a = \"12345678\"\n",
    "print(a.find(\"9\"))"
   ]
  },
  {
   "cell_type": "code",
   "execution_count": 113,
   "metadata": {},
   "outputs": [
    {
     "ename": "ValueError",
     "evalue": "substring not found",
     "output_type": "error",
     "traceback": [
      "\u001b[1;31m---------------------------------------------------------------------------\u001b[0m",
      "\u001b[1;31mValueError\u001b[0m                                Traceback (most recent call last)",
      "\u001b[1;32m<ipython-input-113-59c2313159ed>\u001b[0m in \u001b[0;36m<module>\u001b[1;34m\u001b[0m\n\u001b[0;32m      1\u001b[0m \u001b[0ma\u001b[0m \u001b[1;33m=\u001b[0m \u001b[1;34m\"12345678\"\u001b[0m\u001b[1;33m\u001b[0m\u001b[1;33m\u001b[0m\u001b[0m\n\u001b[1;32m----> 2\u001b[1;33m \u001b[0mprint\u001b[0m\u001b[1;33m(\u001b[0m\u001b[0ma\u001b[0m\u001b[1;33m.\u001b[0m\u001b[0mindex\u001b[0m\u001b[1;33m(\u001b[0m\u001b[1;34m\"9\"\u001b[0m\u001b[1;33m)\u001b[0m\u001b[1;33m)\u001b[0m\u001b[1;33m\u001b[0m\u001b[1;33m\u001b[0m\u001b[0m\n\u001b[0m",
      "\u001b[1;31mValueError\u001b[0m: substring not found"
     ]
    }
   ],
   "source": [
    "a = \"12345678\"\n",
    "print(a.index(\"9\"))"
   ]
  },
  {
   "cell_type": "markdown",
   "metadata": {},
   "source": [
    "As u can see above"
   ]
  },
  {
   "cell_type": "markdown",
   "metadata": {},
   "source": [
    "- capitalize()\tConverts the first character to upper case\n",
    "- casefold()\tConverts string into lower case\n",
    "- center()\tReturns a centered string\n",
    "- count()\tReturns the number of times a specified value occurs in a string\n",
    "- encode()\tReturns an encoded version of the string\n",
    "- endswith()\tReturns true if the string ends with the specified value\n",
    "- expandtabs()\tSets the tab size of the string\n",
    "- find()\tSearches the string for a specified value and returns the position of where it was found\n",
    "- format()\tFormats specified values in a string\n",
    "- format_map()\tFormats specified values in a string\n",
    "- index()\tSearches the string for a specified value and returns the position of where it was found\n",
    "- isalnum()\tReturns True if all characters in the string are alphanumeric\n",
    "- isalpha()\tReturns True if all characters in the string are in the alphabet\n",
    "- isdecimal()\tReturns True if all characters in the string are decimals\n",
    "- isdigit()\tReturns True if all characters in the string are digits\n",
    "- isidentifier()\tReturns True if the string is an identifier\n",
    "- islower()\tReturns True if all characters in the string are lower case\n",
    "- isnumeric()\tReturns True if all characters in the string are numeric\n",
    "- isprintable()\tReturns True if all characters in the string are printable\n",
    "- isspace()\tReturns True if all characters in the string are whitespaces\n",
    "- istitle()\tReturns True if the string follows the rules of a title\n",
    "- isupper()\tReturns True if all characters in the string are upper case\n",
    "- join()\tJoins the elements of an iterable to the end of the string\n",
    "- ljust()\tReturns a left justified version of the string\n",
    "- lower()\tConverts a string into lower case\n",
    "- lstrip()\tReturns a left trim version of the string\n",
    "- maketrans()\tReturns a translation table to be used in translations\n",
    "- partition()\tReturns a tuple where the string is parted into three parts\n",
    "- replace()\tReturns a string where a specified value is replaced with a specified value\n",
    "- rfind()\tSearches the string for a specified value and returns the last position of where it was found\n",
    "- rindex()\tSearches the string for a specified value and returns the last position of where it was found\n",
    "- rjust()\tReturns a right justified version of the string\n",
    "- rpartition()\tReturns a tuple where the string is parted into three parts\n",
    "- rsplit()\tSplits the string at the specified separator, and returns a list\n",
    "- rstrip()\tReturns a right trim version of the string\n",
    "- split()\tSplits the string at the specified separator, and returns a list\n",
    "- splitlines()\tSplits the string at line breaks and returns a list\n",
    "- startswith()\tReturns true if the string starts with the specified value\n",
    "- strip()\tReturns a trimmed version of the string\n",
    "- swapcase()\tSwaps cases, lower case becomes upper case and vice versa\n",
    "- title()\tConverts the first character of each word to upper case\n",
    "- translate()\tReturns a translated string\n",
    "- upper()\tConverts a string into upper case\n",
    "- zfill()\tFills the string with a specified number of 0 values at the beginning"
   ]
  },
  {
   "cell_type": "markdown",
   "metadata": {},
   "source": [
    "### Boolen Python"
   ]
  },
  {
   "cell_type": "code",
   "execution_count": 115,
   "metadata": {},
   "outputs": [
    {
     "name": "stdout",
     "output_type": "stream",
     "text": [
      "False\n",
      "False\n",
      "True\n"
     ]
    }
   ],
   "source": [
    "print(3 < 2)\n",
    "print(3 == 1)\n",
    "print(3 > 2)"
   ]
  },
  {
   "cell_type": "markdown",
   "metadata": {},
   "source": [
    "İf else statements also run on boolen expressions"
   ]
  },
  {
   "cell_type": "code",
   "execution_count": 116,
   "metadata": {},
   "outputs": [
    {
     "name": "stdout",
     "output_type": "stream",
     "text": [
      "b is greater then a\n"
     ]
    }
   ],
   "source": [
    "a = 10\n",
    "b = 20\n",
    "\n",
    "if b < a:\n",
    "    print(\"b is less then a\")\n",
    "else:\n",
    "    print(\"b is greater then a\")"
   ]
  },
  {
   "cell_type": "code",
   "execution_count": 118,
   "metadata": {},
   "outputs": [
    {
     "name": "stdout",
     "output_type": "stream",
     "text": [
      "True\n",
      "True\n"
     ]
    }
   ],
   "source": [
    "# bool() func gives you the oppurtinity to evalue thr stament or value is true or false\n",
    "print(bool(\"sufuk\"))\n",
    "print(bool(22))"
   ]
  },
  {
   "cell_type": "markdown",
   "metadata": {},
   "source": [
    "- Almost any value is evaluated to True if it has some sort of content.\n",
    "\n",
    "- Any string is True, except empty strings.\n",
    "\n",
    "- Any number is True, except 0.\n",
    "\n",
    "- Any list, tuple, set, and dictionary are True, except empty ones."
   ]
  },
  {
   "cell_type": "markdown",
   "metadata": {},
   "source": [
    "#### Python Operators\n"
   ]
  },
  {
   "cell_type": "markdown",
   "metadata": {},
   "source": [
    "# Python Arithmetic Operators\n",
    "\n",
    "- \\+\tAddition\tx + y\t\n",
    "- \\-\tSubtraction\tx - y\t\n",
    "- \\*\tMultiplication\tx * y\t\n",
    "- /\tDivision\tx / y\t\n",
    "- %\tModulus\tx % y\t\n",
    "- **\tExponentiation\tx ** y\t\n",
    "- //\tFloor division\tx // y\n"
   ]
  },
  {
   "cell_type": "raw",
   "metadata": {},
   "source": [
    "## # Python Assignment Operators\n",
    "\n",
    "=\tx = 5\tx = 5\t\n",
    "+=\tx += 3\tx = x + 3\t\n",
    "-=\tx -= 3\tx = x - 3\t\n",
    "*=\tx *= 3\tx = x * 3\t\n",
    "/=\tx /= 3\tx = x / 3\t\n",
    "%=\tx %= 3\tx = x % 3\t\n",
    "//=\tx //= 3\tx = x // 3\t\n",
    "**=\tx **= 3\tx = x ** 3\t\n",
    "&=\tx &= 3\tx = x & 3\t\n",
    "|=\tx |= 3\tx = x | 3\t\n",
    "^=\tx ^= 3\tx = x ^ 3\t\n",
    ">>=\tx >>= 3\tx = x >> 3\t\n",
    "<<=\tx <<= 3\tx = x << 3\n"
   ]
  },
  {
   "cell_type": "raw",
   "metadata": {},
   "source": [
    "==\tEqual\tx == y\t\n",
    "!=\tNot equal\tx != y\t\n",
    ">\tGreater than\tx > y\t\n",
    "<\tLess than\tx < y\t\n",
    ">=\tGreater than or equal to\tx >= y\t\n",
    "<=\tLess than or equal to\tx <= y"
   ]
  },
  {
   "cell_type": "raw",
   "metadata": {},
   "source": [
    "and \tReturns True if both statements are true\tx < 5 and  x < 10\t\n",
    "or\tReturns True if one of the statements is true\tx < 5 or x < 4\t\n",
    "not\tReverse the result, returns False if the result is true\tnot(x < 5 and x < 10"
   ]
  },
  {
   "cell_type": "markdown",
   "metadata": {},
   "source": [
    "#### Python Identity Operators"
   ]
  },
  {
   "cell_type": "raw",
   "metadata": {},
   "source": [
    "is \tReturns True if both variables are the same object\tx is y\t\n",
    "is not\tReturns True if both variables are not the same object\tx is not y"
   ]
  },
  {
   "cell_type": "markdown",
   "metadata": {},
   "source": [
    "#### Python Membership Operators\n"
   ]
  },
  {
   "cell_type": "raw",
   "metadata": {},
   "source": [
    "in \tReturns True if a sequence with the specified value is present in the object\tx in y\t\n",
    "not in\tReturns True if a sequence with the specified value is not present in the object\tx not in y\t\n"
   ]
  },
  {
   "cell_type": "markdown",
   "metadata": {},
   "source": [
    "#### Python Bitwise Operators\n"
   ]
  },
  {
   "cell_type": "raw",
   "metadata": {},
   "source": [
    "& \tAND\tSets each bit to 1 if both bits are 1\n",
    "|\tOR\tSets each bit to 1 if one of two bits is 1\n",
    " ^\tXOR\tSets each bit to 1 if only one of two bits is 1\n",
    "~ \tNOT\tInverts all the bits\n",
    "<<\tZero fill left shift\tShift left by pushing zeros in from the right and let the leftmost bits fall off\n",
    ">>\tSigned right shift\tShift right by pushing copies of the leftmost bit in from the left, and let the rightmost bits fall off"
   ]
  }
 ],
 "metadata": {
  "kernelspec": {
   "display_name": "Python 3",
   "language": "python",
   "name": "python3"
  },
  "language_info": {
   "codemirror_mode": {
    "name": "ipython",
    "version": 3
   },
   "file_extension": ".py",
   "mimetype": "text/x-python",
   "name": "python",
   "nbconvert_exporter": "python",
   "pygments_lexer": "ipython3",
   "version": "3.7.6"
  }
 },
 "nbformat": 4,
 "nbformat_minor": 4
}
